{
 "cells": [
  {
   "cell_type": "markdown",
   "metadata": {},
   "source": [
    "In this notebook, we are testing BigQuery to scrape data.\n",
    "Using https://towardsdatascience.com/scrape-reddit-data-using-python-and-google-bigquery-44180b579892 for guidance."
   ]
  },
  {
   "cell_type": "code",
   "execution_count": 1,
   "metadata": {},
   "outputs": [],
   "source": [
    "import praw\n",
    "import pandas as pd"
   ]
  },
  {
   "cell_type": "code",
   "execution_count": 2,
   "metadata": {},
   "outputs": [],
   "source": [
    "reddit = praw.Reddit(client_id='VhM4sHs0IsJENw',\n",
    "                     client_secret='OXmCpF-xVJGKdXWAi-ZuoL7qXu4',\n",
    "                     password='U$H4$rVbS6nK!e$',\n",
    "                     user_agent='testscript by /u/crypto_capstone',\n",
    "                     username='crypto_capstone')"
   ]
  },
  {
   "cell_type": "markdown",
   "metadata": {},
   "source": [
    "In this loop, first we are getting each submission information at the start of the loop and then extracting all the comment ids and storing them in list."
   ]
  },
  {
   "cell_type": "code",
   "execution_count": 3,
   "metadata": {},
   "outputs": [],
   "source": [
    "comm_list = []\n",
    "header_list = []\n",
    "i = 0\n",
    "for submission in reddit.subreddit('cryptocurrency').hot(limit=2):\n",
    "    submission.comments.replace_more(limit=None)\n",
    "    comment_queue = submission.comments[:]  # Seed with top-level\n",
    "    while comment_queue:\n",
    "        header_list.append(submission.title)\n",
    "        comment = comment_queue.pop(0)\n",
    "        comm_list.append(comment.body)\n",
    "        t = []\n",
    "        t.extend(comment.replies)\n",
    "        while t:\n",
    "            header_list.append(submission.title)\n",
    "            reply = t.pop(0)\n",
    "            comm_list.append(reply.body)\n",
    "df = pd.DataFrame(header_list)\n",
    "df['comm_list'] = comm_list\n",
    "df.columns = ['header','comments']\n",
    "df['comments'] = df['comments'].apply(lambda x : x.replace('\\n',''))\n",
    "df.to_csv('cryptocurrency_comments.csv',index = False)"
   ]
  },
  {
   "cell_type": "code",
   "execution_count": null,
   "metadata": {},
   "outputs": [],
   "source": []
  }
 ],
 "metadata": {
  "kernelspec": {
   "display_name": "Python 3",
   "language": "python",
   "name": "python3"
  },
  "language_info": {
   "codemirror_mode": {
    "name": "ipython",
    "version": 3
   },
   "file_extension": ".py",
   "mimetype": "text/x-python",
   "name": "python",
   "nbconvert_exporter": "python",
   "pygments_lexer": "ipython3",
   "version": "3.7.4"
  }
 },
 "nbformat": 4,
 "nbformat_minor": 2
}
