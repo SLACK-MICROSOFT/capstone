{
 "cells": [
  {
   "cell_type": "code",
   "execution_count": 2,
   "metadata": {
    "scrolled": true
   },
   "outputs": [
    {
     "name": "stdout",
     "output_type": "stream",
     "text": [
      "\u001b[33mDEPRECATION: Python 2.7 will reach the end of its life on January 1st, 2020. Please upgrade your Python as Python 2.7 won't be maintained after that date. A future version of pip will drop support for Python 2.7. More details about Python 2 support in pip, can be found at https://pip.pypa.io/en/latest/development/release-process/#python-2-support\u001b[0m\n",
      "Processing /Users/rosalindkidwell/Library/Caches/pip/wheels/96/86/f6/68ab24c23f207c0077381a5e3904b2815136b879538a24b483/nltk-3.4.5-cp27-none-any.whl\n",
      "Requirement already satisfied: six in /System/Library/Frameworks/Python.framework/Versions/2.7/Extras/lib/python (from nltk) (1.12.0)\n",
      "Requirement already satisfied: singledispatch; python_version < \"3.4\" in /Users/rosalindkidwell/Library/Python/2.7/lib/python/site-packages (from nltk) (3.4.0.3)\n",
      "Installing collected packages: nltk\n",
      "\u001b[31mERROR: Could not install packages due to an EnvironmentError: [Errno 13] Permission denied: '/Library/Python/2.7/site-packages/nltk-3.4.5.dist-info'\n",
      "Consider using the `--user` option or check the permissions.\n",
      "\u001b[0m\n",
      "\u001b[33mDEPRECATION: Python 2.7 will reach the end of its life on January 1st, 2020. Please upgrade your Python as Python 2.7 won't be maintained after that date. A future version of pip will drop support for Python 2.7. More details about Python 2 support in pip, can be found at https://pip.pypa.io/en/latest/development/release-process/#python-2-support\u001b[0m\n",
      "Requirement already satisfied: matplotlib in /System/Library/Frameworks/Python.framework/Versions/2.7/Extras/lib/python (1.3.1)\n",
      "Requirement already satisfied: numpy>=1.5 in /System/Library/Frameworks/Python.framework/Versions/2.7/Extras/lib/python (from matplotlib) (1.8.0rc1)\n",
      "Requirement already satisfied: python-dateutil in /System/Library/Frameworks/Python.framework/Versions/2.7/Extras/lib/python (from matplotlib) (1.5)\n",
      "Requirement already satisfied: tornado in /Users/rosalindkidwell/Library/Python/2.7/lib/python/site-packages (from matplotlib) (5.1.1)\n",
      "Requirement already satisfied: pyparsing>=1.5.6 in /System/Library/Frameworks/Python.framework/Versions/2.7/Extras/lib/python (from matplotlib) (2.0.1)\n",
      "Requirement already satisfied: nose in /Users/rosalindkidwell/Library/Python/2.7/lib/python/site-packages (from matplotlib) (1.3.7)\n",
      "Requirement already satisfied: futures in /Users/rosalindkidwell/Library/Python/2.7/lib/python/site-packages (from tornado->matplotlib) (3.3.0)\n",
      "Requirement already satisfied: singledispatch in /Users/rosalindkidwell/Library/Python/2.7/lib/python/site-packages (from tornado->matplotlib) (3.4.0.3)\n",
      "Requirement already satisfied: backports-abc>=0.4 in /Users/rosalindkidwell/Library/Python/2.7/lib/python/site-packages (from tornado->matplotlib) (0.5)\n",
      "Requirement already satisfied: six in /System/Library/Frameworks/Python.framework/Versions/2.7/Extras/lib/python (from singledispatch->tornado->matplotlib) (1.12.0)\n",
      "\u001b[33mDEPRECATION: Python 2.7 will reach the end of its life on January 1st, 2020. Please upgrade your Python as Python 2.7 won't be maintained after that date. A future version of pip will drop support for Python 2.7. More details about Python 2 support in pip, can be found at https://pip.pypa.io/en/latest/development/release-process/#python-2-support\u001b[0m\n",
      "Collecting pandas\n",
      "  Using cached https://files.pythonhosted.org/packages/52/ff/912fe03a623a70bcf297d466013a0b4f4c68c3b60f86bf226682d061fc09/pandas-0.24.2-cp27-cp27m-macosx_10_6_intel.macosx_10_9_intel.macosx_10_9_x86_64.macosx_10_10_intel.macosx_10_10_x86_64.whl\n",
      "Requirement already satisfied: pytz>=2011k in /System/Library/Frameworks/Python.framework/Versions/2.7/Extras/lib/python (from pandas) (2013.7)\n",
      "Collecting numpy>=1.12.0\n",
      "  Using cached https://files.pythonhosted.org/packages/09/96/84cf406fe7d589f3dba9fc0f737e65985a3526c6d8c783f02d4b5a10825d/numpy-1.16.6-cp27-cp27m-macosx_10_9_x86_64.whl\n",
      "Collecting python-dateutil>=2.5.0\n",
      "  Using cached https://files.pythonhosted.org/packages/d4/70/d60450c3dd48ef87586924207ae8907090de0b306af2bce5d134d78615cb/python_dateutil-2.8.1-py2.py3-none-any.whl\n",
      "Requirement already satisfied: six>=1.5 in /System/Library/Frameworks/Python.framework/Versions/2.7/Extras/lib/python (from python-dateutil>=2.5.0->pandas) (1.12.0)\n",
      "Installing collected packages: numpy, python-dateutil, pandas\n",
      "  Found existing installation: numpy 1.8.0rc1\n",
      "\u001b[31mERROR: Cannot uninstall 'numpy'. It is a distutils installed project and thus we cannot accurately determine which files belong to it which would lead to only a partial uninstall.\u001b[0m\n"
     ]
    }
   ],
   "source": [
    "!pip install nltk\n",
    "!pip install matplotlib\n",
    "!pip install pandas\n",
    "\n",
    "import nltk \n",
    "\n",
    "#nltk.download('brown')\n",
    "\n",
    "from nltk import FreqDist\n",
    "from nltk.corpus import brown\n",
    "import pandas as pd\n",
    "import matplotlib as plt"
   ]
  },
  {
   "cell_type": "code",
   "execution_count": 3,
   "metadata": {},
   "outputs": [],
   "source": [
    "#Need to gather all data into a long text string. \n",
    "\n",
    "df = pd.read_csv('data/Comments/combined-comments.csv')\n",
    "\n",
    "\n",
    "comments = df['comment']\n",
    "\n",
    "\n",
    "nltkprep_com = comments.str.cat(sep='; ')\n"
   ]
  },
  {
   "cell_type": "code",
   "execution_count": 10,
   "metadata": {},
   "outputs": [
    {
     "name": "stdout",
     "output_type": "stream",
     "text": [
      "Requirement already satisfied: spacy in /usr/local/Cellar/jupyterlab/1.2.3/libexec/lib/python3.7/site-packages (2.2.3)\n",
      "Requirement already satisfied: catalogue<1.1.0,>=0.0.7 in /usr/local/Cellar/jupyterlab/1.2.3/libexec/lib/python3.7/site-packages (from spacy) (1.0.0)\n",
      "Requirement already satisfied: murmurhash<1.1.0,>=0.28.0 in /usr/local/Cellar/jupyterlab/1.2.3/libexec/lib/python3.7/site-packages (from spacy) (1.0.2)\n",
      "Requirement already satisfied: thinc<7.4.0,>=7.3.0 in /usr/local/Cellar/jupyterlab/1.2.3/libexec/lib/python3.7/site-packages (from spacy) (7.3.1)\n",
      "Requirement already satisfied: blis<0.5.0,>=0.4.0 in /usr/local/Cellar/jupyterlab/1.2.3/libexec/lib/python3.7/site-packages (from spacy) (0.4.1)\n",
      "Requirement already satisfied: setuptools in /usr/local/Cellar/jupyterlab/1.2.3/libexec/lib/python3.7/site-packages (from spacy) (42.0.1)\n",
      "Requirement already satisfied: cymem<2.1.0,>=2.0.2 in /usr/local/Cellar/jupyterlab/1.2.3/libexec/lib/python3.7/site-packages (from spacy) (2.0.3)\n",
      "Requirement already satisfied: preshed<3.1.0,>=3.0.2 in /usr/local/Cellar/jupyterlab/1.2.3/libexec/lib/python3.7/site-packages (from spacy) (3.0.2)\n",
      "Requirement already satisfied: plac<1.2.0,>=0.9.6 in /usr/local/Cellar/jupyterlab/1.2.3/libexec/lib/python3.7/site-packages (from spacy) (1.1.3)\n",
      "Requirement already satisfied: wasabi<1.1.0,>=0.4.0 in /usr/local/Cellar/jupyterlab/1.2.3/libexec/lib/python3.7/site-packages (from spacy) (0.6.0)\n",
      "Requirement already satisfied: numpy>=1.15.0 in /usr/local/Cellar/jupyterlab/1.2.3/libexec/lib/python3.7/site-packages (from spacy) (1.18.1)\n",
      "Requirement already satisfied: srsly<1.1.0,>=0.1.0 in /usr/local/Cellar/jupyterlab/1.2.3/libexec/lib/python3.7/site-packages (from spacy) (1.0.1)\n",
      "Requirement already satisfied: requests<3.0.0,>=2.13.0 in /usr/local/Cellar/jupyterlab/1.2.3/libexec/lib/python3.7/site-packages (from spacy) (2.22.0)\n",
      "Requirement already satisfied: importlib-metadata>=0.20; python_version < \"3.8\" in /usr/local/Cellar/jupyterlab/1.2.3/libexec/lib/python3.7/site-packages (from catalogue<1.1.0,>=0.0.7->spacy) (0.23)\n",
      "Requirement already satisfied: tqdm<5.0.0,>=4.10.0 in /usr/local/Cellar/jupyterlab/1.2.3/libexec/lib/python3.7/site-packages (from thinc<7.4.0,>=7.3.0->spacy) (4.42.0)\n",
      "Requirement already satisfied: chardet<3.1.0,>=3.0.2 in /usr/local/Cellar/jupyterlab/1.2.3/libexec/lib/python3.7/site-packages (from requests<3.0.0,>=2.13.0->spacy) (3.0.4)\n",
      "Requirement already satisfied: certifi>=2017.4.17 in /usr/local/Cellar/jupyterlab/1.2.3/libexec/lib/python3.7/site-packages (from requests<3.0.0,>=2.13.0->spacy) (2019.11.28)\n",
      "Requirement already satisfied: idna<2.9,>=2.5 in /usr/local/Cellar/jupyterlab/1.2.3/libexec/lib/python3.7/site-packages (from requests<3.0.0,>=2.13.0->spacy) (2.8)\n",
      "Requirement already satisfied: urllib3!=1.25.0,!=1.25.1,<1.26,>=1.21.1 in /usr/local/Cellar/jupyterlab/1.2.3/libexec/lib/python3.7/site-packages (from requests<3.0.0,>=2.13.0->spacy) (1.25.8)\n",
      "Requirement already satisfied: zipp>=0.5 in /usr/local/Cellar/jupyterlab/1.2.3/libexec/lib/python3.7/site-packages (from importlib-metadata>=0.20; python_version < \"3.8\"->catalogue<1.1.0,>=0.0.7->spacy) (0.6.0)\n",
      "Requirement already satisfied: more-itertools in /usr/local/Cellar/jupyterlab/1.2.3/libexec/lib/python3.7/site-packages (from zipp>=0.5->importlib-metadata>=0.20; python_version < \"3.8\"->catalogue<1.1.0,>=0.0.7->spacy) (7.2.0)\n",
      "\u001b[33mWARNING: You are using pip version 19.3.1; however, version 20.0.2 is available.\n",
      "You should consider upgrading via the 'pip install --upgrade pip' command.\u001b[0m\n",
      "Note: you may need to restart the kernel to use updated packages.\n"
     ]
    }
   ],
   "source": [
    "pip install spacy"
   ]
  },
  {
   "cell_type": "code",
   "execution_count": 4,
   "metadata": {},
   "outputs": [
    {
     "name": "stdout",
     "output_type": "stream",
     "text": [
      "Requirement already satisfied: en_core_web_sm==2.2.5 from https://github.com/explosion/spacy-models/releases/download/en_core_web_sm-2.2.5/en_core_web_sm-2.2.5.tar.gz#egg=en_core_web_sm==2.2.5 in /usr/local/Cellar/jupyterlab/1.2.3/libexec/lib/python3.7/site-packages (2.2.5)\n",
      "Requirement already satisfied: spacy>=2.2.2 in /usr/local/Cellar/jupyterlab/1.2.3/libexec/lib/python3.7/site-packages (from en_core_web_sm==2.2.5) (2.2.3)\n",
      "Requirement already satisfied: cymem<2.1.0,>=2.0.2 in /usr/local/Cellar/jupyterlab/1.2.3/libexec/lib/python3.7/site-packages (from spacy>=2.2.2->en_core_web_sm==2.2.5) (2.0.3)\n",
      "Requirement already satisfied: plac<1.2.0,>=0.9.6 in /usr/local/Cellar/jupyterlab/1.2.3/libexec/lib/python3.7/site-packages (from spacy>=2.2.2->en_core_web_sm==2.2.5) (1.1.3)\n",
      "Requirement already satisfied: numpy>=1.15.0 in /usr/local/Cellar/jupyterlab/1.2.3/libexec/lib/python3.7/site-packages (from spacy>=2.2.2->en_core_web_sm==2.2.5) (1.18.1)\n",
      "Requirement already satisfied: requests<3.0.0,>=2.13.0 in /usr/local/Cellar/jupyterlab/1.2.3/libexec/lib/python3.7/site-packages (from spacy>=2.2.2->en_core_web_sm==2.2.5) (2.22.0)\n",
      "Requirement already satisfied: preshed<3.1.0,>=3.0.2 in /usr/local/Cellar/jupyterlab/1.2.3/libexec/lib/python3.7/site-packages (from spacy>=2.2.2->en_core_web_sm==2.2.5) (3.0.2)\n",
      "Requirement already satisfied: wasabi<1.1.0,>=0.4.0 in /usr/local/Cellar/jupyterlab/1.2.3/libexec/lib/python3.7/site-packages (from spacy>=2.2.2->en_core_web_sm==2.2.5) (0.6.0)\n",
      "Requirement already satisfied: srsly<1.1.0,>=0.1.0 in /usr/local/Cellar/jupyterlab/1.2.3/libexec/lib/python3.7/site-packages (from spacy>=2.2.2->en_core_web_sm==2.2.5) (1.0.1)\n",
      "Requirement already satisfied: setuptools in /usr/local/Cellar/jupyterlab/1.2.3/libexec/lib/python3.7/site-packages (from spacy>=2.2.2->en_core_web_sm==2.2.5) (42.0.1)\n",
      "Requirement already satisfied: catalogue<1.1.0,>=0.0.7 in /usr/local/Cellar/jupyterlab/1.2.3/libexec/lib/python3.7/site-packages (from spacy>=2.2.2->en_core_web_sm==2.2.5) (1.0.0)\n",
      "Requirement already satisfied: thinc<7.4.0,>=7.3.0 in /usr/local/Cellar/jupyterlab/1.2.3/libexec/lib/python3.7/site-packages (from spacy>=2.2.2->en_core_web_sm==2.2.5) (7.3.1)\n",
      "Requirement already satisfied: blis<0.5.0,>=0.4.0 in /usr/local/Cellar/jupyterlab/1.2.3/libexec/lib/python3.7/site-packages (from spacy>=2.2.2->en_core_web_sm==2.2.5) (0.4.1)\n",
      "Requirement already satisfied: murmurhash<1.1.0,>=0.28.0 in /usr/local/Cellar/jupyterlab/1.2.3/libexec/lib/python3.7/site-packages (from spacy>=2.2.2->en_core_web_sm==2.2.5) (1.0.2)\n",
      "Requirement already satisfied: urllib3!=1.25.0,!=1.25.1,<1.26,>=1.21.1 in /usr/local/Cellar/jupyterlab/1.2.3/libexec/lib/python3.7/site-packages (from requests<3.0.0,>=2.13.0->spacy>=2.2.2->en_core_web_sm==2.2.5) (1.25.8)\n",
      "Requirement already satisfied: certifi>=2017.4.17 in /usr/local/Cellar/jupyterlab/1.2.3/libexec/lib/python3.7/site-packages (from requests<3.0.0,>=2.13.0->spacy>=2.2.2->en_core_web_sm==2.2.5) (2019.11.28)\n",
      "Requirement already satisfied: idna<2.9,>=2.5 in /usr/local/Cellar/jupyterlab/1.2.3/libexec/lib/python3.7/site-packages (from requests<3.0.0,>=2.13.0->spacy>=2.2.2->en_core_web_sm==2.2.5) (2.8)\n",
      "Requirement already satisfied: chardet<3.1.0,>=3.0.2 in /usr/local/Cellar/jupyterlab/1.2.3/libexec/lib/python3.7/site-packages (from requests<3.0.0,>=2.13.0->spacy>=2.2.2->en_core_web_sm==2.2.5) (3.0.4)\n",
      "Requirement already satisfied: importlib-metadata>=0.20; python_version < \"3.8\" in /usr/local/Cellar/jupyterlab/1.2.3/libexec/lib/python3.7/site-packages (from catalogue<1.1.0,>=0.0.7->spacy>=2.2.2->en_core_web_sm==2.2.5) (0.23)\n",
      "Requirement already satisfied: tqdm<5.0.0,>=4.10.0 in /usr/local/Cellar/jupyterlab/1.2.3/libexec/lib/python3.7/site-packages (from thinc<7.4.0,>=7.3.0->spacy>=2.2.2->en_core_web_sm==2.2.5) (4.42.0)\n",
      "Requirement already satisfied: zipp>=0.5 in /usr/local/Cellar/jupyterlab/1.2.3/libexec/lib/python3.7/site-packages (from importlib-metadata>=0.20; python_version < \"3.8\"->catalogue<1.1.0,>=0.0.7->spacy>=2.2.2->en_core_web_sm==2.2.5) (0.6.0)\n",
      "Requirement already satisfied: more-itertools in /usr/local/Cellar/jupyterlab/1.2.3/libexec/lib/python3.7/site-packages (from zipp>=0.5->importlib-metadata>=0.20; python_version < \"3.8\"->catalogue<1.1.0,>=0.0.7->spacy>=2.2.2->en_core_web_sm==2.2.5) (7.2.0)\n",
      "\u001b[33mWARNING: You are using pip version 19.3.1; however, version 20.0.2 is available.\n",
      "You should consider upgrading via the 'pip install --upgrade pip' command.\u001b[0m\n",
      "\u001b[38;5;2m✔ Download and installation successful\u001b[0m\n",
      "You can now load the model via spacy.load('en_core_web_sm')\n",
      "\u001b[38;5;2m✔ Linking successful\u001b[0m\n",
      "/usr/local/Cellar/jupyterlab/1.2.3/libexec/lib/python3.7/site-packages/en_core_web_sm\n",
      "-->\n",
      "/usr/local/Cellar/jupyterlab/1.2.3/libexec/lib/python3.7/site-packages/spacy/data/en\n",
      "You can now load the model via spacy.load('en')\n"
     ]
    }
   ],
   "source": [
    "import sys\n",
    "!{sys.executable} -m spacy download en"
   ]
  },
  {
   "cell_type": "code",
   "execution_count": 8,
   "metadata": {},
   "outputs": [],
   "source": [
    "import spacy"
   ]
  },
  {
   "cell_type": "code",
   "execution_count": 5,
   "metadata": {},
   "outputs": [
    {
     "name": "stdout",
     "output_type": "stream",
     "text": [
      "Requirement already satisfied: spacy in /usr/local/Cellar/jupyterlab/1.2.3/libexec/lib/python3.7/site-packages (2.2.3)\n",
      "Requirement already satisfied: setuptools in /usr/local/Cellar/jupyterlab/1.2.3/libexec/lib/python3.7/site-packages (from spacy) (42.0.1)\n",
      "Requirement already satisfied: wasabi<1.1.0,>=0.4.0 in /usr/local/Cellar/jupyterlab/1.2.3/libexec/lib/python3.7/site-packages (from spacy) (0.6.0)\n",
      "Requirement already satisfied: preshed<3.1.0,>=3.0.2 in /usr/local/Cellar/jupyterlab/1.2.3/libexec/lib/python3.7/site-packages (from spacy) (3.0.2)\n",
      "Requirement already satisfied: numpy>=1.15.0 in /usr/local/Cellar/jupyterlab/1.2.3/libexec/lib/python3.7/site-packages (from spacy) (1.18.1)\n",
      "Requirement already satisfied: thinc<7.4.0,>=7.3.0 in /usr/local/Cellar/jupyterlab/1.2.3/libexec/lib/python3.7/site-packages (from spacy) (7.3.1)\n",
      "Requirement already satisfied: srsly<1.1.0,>=0.1.0 in /usr/local/Cellar/jupyterlab/1.2.3/libexec/lib/python3.7/site-packages (from spacy) (1.0.1)\n",
      "Requirement already satisfied: catalogue<1.1.0,>=0.0.7 in /usr/local/Cellar/jupyterlab/1.2.3/libexec/lib/python3.7/site-packages (from spacy) (1.0.0)\n",
      "Requirement already satisfied: cymem<2.1.0,>=2.0.2 in /usr/local/Cellar/jupyterlab/1.2.3/libexec/lib/python3.7/site-packages (from spacy) (2.0.3)\n",
      "Requirement already satisfied: plac<1.2.0,>=0.9.6 in /usr/local/Cellar/jupyterlab/1.2.3/libexec/lib/python3.7/site-packages (from spacy) (1.1.3)\n",
      "Requirement already satisfied: murmurhash<1.1.0,>=0.28.0 in /usr/local/Cellar/jupyterlab/1.2.3/libexec/lib/python3.7/site-packages (from spacy) (1.0.2)\n",
      "Requirement already satisfied: requests<3.0.0,>=2.13.0 in /usr/local/Cellar/jupyterlab/1.2.3/libexec/lib/python3.7/site-packages (from spacy) (2.22.0)\n",
      "Requirement already satisfied: blis<0.5.0,>=0.4.0 in /usr/local/Cellar/jupyterlab/1.2.3/libexec/lib/python3.7/site-packages (from spacy) (0.4.1)\n",
      "Requirement already satisfied: tqdm<5.0.0,>=4.10.0 in /usr/local/Cellar/jupyterlab/1.2.3/libexec/lib/python3.7/site-packages (from thinc<7.4.0,>=7.3.0->spacy) (4.42.0)\n",
      "Requirement already satisfied: importlib-metadata>=0.20; python_version < \"3.8\" in /usr/local/Cellar/jupyterlab/1.2.3/libexec/lib/python3.7/site-packages (from catalogue<1.1.0,>=0.0.7->spacy) (0.23)\n",
      "Requirement already satisfied: certifi>=2017.4.17 in /usr/local/Cellar/jupyterlab/1.2.3/libexec/lib/python3.7/site-packages (from requests<3.0.0,>=2.13.0->spacy) (2019.11.28)\n",
      "Requirement already satisfied: chardet<3.1.0,>=3.0.2 in /usr/local/Cellar/jupyterlab/1.2.3/libexec/lib/python3.7/site-packages (from requests<3.0.0,>=2.13.0->spacy) (3.0.4)\n",
      "Requirement already satisfied: urllib3!=1.25.0,!=1.25.1,<1.26,>=1.21.1 in /usr/local/Cellar/jupyterlab/1.2.3/libexec/lib/python3.7/site-packages (from requests<3.0.0,>=2.13.0->spacy) (1.25.8)\n",
      "Requirement already satisfied: idna<2.9,>=2.5 in /usr/local/Cellar/jupyterlab/1.2.3/libexec/lib/python3.7/site-packages (from requests<3.0.0,>=2.13.0->spacy) (2.8)\n",
      "Requirement already satisfied: zipp>=0.5 in /usr/local/Cellar/jupyterlab/1.2.3/libexec/lib/python3.7/site-packages (from importlib-metadata>=0.20; python_version < \"3.8\"->catalogue<1.1.0,>=0.0.7->spacy) (0.6.0)\n",
      "Requirement already satisfied: more-itertools in /usr/local/Cellar/jupyterlab/1.2.3/libexec/lib/python3.7/site-packages (from zipp>=0.5->importlib-metadata>=0.20; python_version < \"3.8\"->catalogue<1.1.0,>=0.0.7->spacy) (7.2.0)\n",
      "\u001b[33mWARNING: You are using pip version 19.3.1; however, version 20.0.2 is available.\n",
      "You should consider upgrading via the 'pip install --upgrade pip' command.\u001b[0m\n",
      "Requirement already satisfied: en_core_web_sm==2.2.5 from https://github.com/explosion/spacy-models/releases/download/en_core_web_sm-2.2.5/en_core_web_sm-2.2.5.tar.gz#egg=en_core_web_sm==2.2.5 in /usr/local/Cellar/jupyterlab/1.2.3/libexec/lib/python3.7/site-packages (2.2.5)\n",
      "Requirement already satisfied: spacy>=2.2.2 in /usr/local/Cellar/jupyterlab/1.2.3/libexec/lib/python3.7/site-packages (from en_core_web_sm==2.2.5) (2.2.3)\n",
      "Requirement already satisfied: wasabi<1.1.0,>=0.4.0 in /usr/local/Cellar/jupyterlab/1.2.3/libexec/lib/python3.7/site-packages (from spacy>=2.2.2->en_core_web_sm==2.2.5) (0.6.0)\n",
      "Requirement already satisfied: requests<3.0.0,>=2.13.0 in /usr/local/Cellar/jupyterlab/1.2.3/libexec/lib/python3.7/site-packages (from spacy>=2.2.2->en_core_web_sm==2.2.5) (2.22.0)\n",
      "Requirement already satisfied: setuptools in /usr/local/Cellar/jupyterlab/1.2.3/libexec/lib/python3.7/site-packages (from spacy>=2.2.2->en_core_web_sm==2.2.5) (42.0.1)\n",
      "Requirement already satisfied: plac<1.2.0,>=0.9.6 in /usr/local/Cellar/jupyterlab/1.2.3/libexec/lib/python3.7/site-packages (from spacy>=2.2.2->en_core_web_sm==2.2.5) (1.1.3)\n",
      "Requirement already satisfied: srsly<1.1.0,>=0.1.0 in /usr/local/Cellar/jupyterlab/1.2.3/libexec/lib/python3.7/site-packages (from spacy>=2.2.2->en_core_web_sm==2.2.5) (1.0.1)\n",
      "Requirement already satisfied: preshed<3.1.0,>=3.0.2 in /usr/local/Cellar/jupyterlab/1.2.3/libexec/lib/python3.7/site-packages (from spacy>=2.2.2->en_core_web_sm==2.2.5) (3.0.2)\n",
      "Requirement already satisfied: thinc<7.4.0,>=7.3.0 in /usr/local/Cellar/jupyterlab/1.2.3/libexec/lib/python3.7/site-packages (from spacy>=2.2.2->en_core_web_sm==2.2.5) (7.3.1)\n",
      "Requirement already satisfied: numpy>=1.15.0 in /usr/local/Cellar/jupyterlab/1.2.3/libexec/lib/python3.7/site-packages (from spacy>=2.2.2->en_core_web_sm==2.2.5) (1.18.1)\n",
      "Requirement already satisfied: blis<0.5.0,>=0.4.0 in /usr/local/Cellar/jupyterlab/1.2.3/libexec/lib/python3.7/site-packages (from spacy>=2.2.2->en_core_web_sm==2.2.5) (0.4.1)\n",
      "Requirement already satisfied: murmurhash<1.1.0,>=0.28.0 in /usr/local/Cellar/jupyterlab/1.2.3/libexec/lib/python3.7/site-packages (from spacy>=2.2.2->en_core_web_sm==2.2.5) (1.0.2)\n",
      "Requirement already satisfied: catalogue<1.1.0,>=0.0.7 in /usr/local/Cellar/jupyterlab/1.2.3/libexec/lib/python3.7/site-packages (from spacy>=2.2.2->en_core_web_sm==2.2.5) (1.0.0)\n",
      "Requirement already satisfied: cymem<2.1.0,>=2.0.2 in /usr/local/Cellar/jupyterlab/1.2.3/libexec/lib/python3.7/site-packages (from spacy>=2.2.2->en_core_web_sm==2.2.5) (2.0.3)\n",
      "Requirement already satisfied: chardet<3.1.0,>=3.0.2 in /usr/local/Cellar/jupyterlab/1.2.3/libexec/lib/python3.7/site-packages (from requests<3.0.0,>=2.13.0->spacy>=2.2.2->en_core_web_sm==2.2.5) (3.0.4)\n",
      "Requirement already satisfied: urllib3!=1.25.0,!=1.25.1,<1.26,>=1.21.1 in /usr/local/Cellar/jupyterlab/1.2.3/libexec/lib/python3.7/site-packages (from requests<3.0.0,>=2.13.0->spacy>=2.2.2->en_core_web_sm==2.2.5) (1.25.8)\n",
      "Requirement already satisfied: idna<2.9,>=2.5 in /usr/local/Cellar/jupyterlab/1.2.3/libexec/lib/python3.7/site-packages (from requests<3.0.0,>=2.13.0->spacy>=2.2.2->en_core_web_sm==2.2.5) (2.8)\n",
      "Requirement already satisfied: certifi>=2017.4.17 in /usr/local/Cellar/jupyterlab/1.2.3/libexec/lib/python3.7/site-packages (from requests<3.0.0,>=2.13.0->spacy>=2.2.2->en_core_web_sm==2.2.5) (2019.11.28)\n",
      "Requirement already satisfied: tqdm<5.0.0,>=4.10.0 in /usr/local/Cellar/jupyterlab/1.2.3/libexec/lib/python3.7/site-packages (from thinc<7.4.0,>=7.3.0->spacy>=2.2.2->en_core_web_sm==2.2.5) (4.42.0)\n",
      "Requirement already satisfied: importlib-metadata>=0.20; python_version < \"3.8\" in /usr/local/Cellar/jupyterlab/1.2.3/libexec/lib/python3.7/site-packages (from catalogue<1.1.0,>=0.0.7->spacy>=2.2.2->en_core_web_sm==2.2.5) (0.23)\n",
      "Requirement already satisfied: zipp>=0.5 in /usr/local/Cellar/jupyterlab/1.2.3/libexec/lib/python3.7/site-packages (from importlib-metadata>=0.20; python_version < \"3.8\"->catalogue<1.1.0,>=0.0.7->spacy>=2.2.2->en_core_web_sm==2.2.5) (0.6.0)\n",
      "Requirement already satisfied: more-itertools in /usr/local/Cellar/jupyterlab/1.2.3/libexec/lib/python3.7/site-packages (from zipp>=0.5->importlib-metadata>=0.20; python_version < \"3.8\"->catalogue<1.1.0,>=0.0.7->spacy>=2.2.2->en_core_web_sm==2.2.5) (7.2.0)\n",
      "\u001b[33mWARNING: You are using pip version 19.3.1; however, version 20.0.2 is available.\n",
      "You should consider upgrading via the 'pip install --upgrade pip' command.\u001b[0m\n",
      "\u001b[38;5;2m✔ Download and installation successful\u001b[0m\n",
      "You can now load the model via spacy.load('en_core_web_sm')\n",
      "\u001b[38;5;2m✔ Linking successful\u001b[0m\n",
      "/usr/local/Cellar/jupyterlab/1.2.3/libexec/lib/python3.7/site-packages/en_core_web_sm\n",
      "-->\n",
      "/usr/local/Cellar/jupyterlab/1.2.3/libexec/lib/python3.7/site-packages/spacy/data/en\n",
      "You can now load the model via spacy.load('en')\n"
     ]
    }
   ],
   "source": [
    "import sys\n",
    "!{sys.executable} -m pip install spacy\n",
    "!{sys.executable} -m spacy download en"
   ]
  },
  {
   "cell_type": "code",
   "execution_count": 6,
   "metadata": {},
   "outputs": [],
   "source": [
    "from nltk.corpus import names\n",
    "male_names = names.words('male.txt')\n",
    "female_names = names.words('female.txt')\n"
   ]
  },
  {
   "cell_type": "code",
   "execution_count": 9,
   "metadata": {},
   "outputs": [],
   "source": [
    "sp = spacy.load('en')"
   ]
  },
  {
   "cell_type": "code",
   "execution_count": 10,
   "metadata": {},
   "outputs": [
    {
     "name": "stdout",
     "output_type": "stream",
     "text": [
      "Manchester United - PERSON - People, including fictional\n",
      "Harry Kane - PERSON - People, including fictional\n",
      "$90 million - MONEY - Monetary values, including unit\n"
     ]
    }
   ],
   "source": [
    "#Finds named entities in sentence, here's just a sample\n",
    "sen = sp(u'Manchester United is looking to sign Harry Kane for $90 million')\n",
    "\n",
    "for entity in sen.ents:\n",
    "    print(entity.text + ' - ' + entity.label_ + ' - ' + str(spacy.explain(entity.label_)))"
   ]
  },
  {
   "cell_type": "code",
   "execution_count": 12,
   "metadata": {},
   "outputs": [
    {
     "name": "stdout",
     "output_type": "stream",
     "text": [
      "Also there’s a good reason why Bitcoin is valued higher than alts don’t be seduced if you see you can buy 50,000 Tittycoin for $20.\n",
      "361\n",
      "59\n"
     ]
    }
   ],
   "source": [
    "from nltk.tokenize import RegexpTokenizer\n",
    "from nltk.tokenize import sent_tokenize\n",
    "tokenizer = RegexpTokenizer(r'\\w+')\n",
    "\n",
    "#tokenized_text = tokenizer.tokenize(nltkprep_com)\n",
    "#sen = sp(nltkprep_com[:80000])\n",
    "\n",
    "\n",
    "non_names = ['Price', 'Hope','Wait', 'Sapphire', 'Bing', 'Dell', 'See', 'Mac', 'Forbes', 'April', 'May', 'Jan', 'August', 'Fortune', 'Web', 'West', 'Love']\n",
    "token_sents = sent_tokenize(nltkprep_com)\n",
    "\n",
    "malecount = 0\n",
    "femalecount = 0\n",
    "\n",
    "for s in token_sents:\n",
    "    words = s.split()\n",
    "    for each in words:\n",
    "        if each == \"Tittycoin\":\n",
    "            print(s)\n",
    "        if each in non_names:\n",
    "            continue\n",
    "        elif each in male_names:\n",
    "            #print(s)\n",
    "            malecount +=1\n",
    "        elif each in female_names:\n",
    "            #print(s)\n",
    "            femalecount +=1\n",
    "\n",
    "print(malecount)\n",
    "print(femalecount)\n",
    "            \n",
    "\n",
    "\n"
   ]
  },
  {
   "cell_type": "code",
   "execution_count": null,
   "metadata": {},
   "outputs": [],
   "source": [
    "from spacy import displacy\n",
    "#Library for visualization"
   ]
  },
  {
   "cell_type": "code",
   "execution_count": null,
   "metadata": {},
   "outputs": [],
   "source": [
    "'''\n",
    "for words in tokenized_text:\n",
    "    if words in non_names:\n",
    "        continue\n",
    "    elif words in male_names:\n",
    "        print(words)\n",
    "    elif words in female_names:\n",
    "        print(words)\n",
    "unimp_types = [\"CARDINAL\", \"PERCENT\", \"ORDINAL\"]\n",
    "for entity in sen.ents:\n",
    "    if entity.label_ not in unimp_types:\n",
    "        print(entity.text + ' - ' + entity.label_ + ' - ' + str(spacy.explain(entity.label_)))\n",
    "'''"
   ]
  }
 ],
 "metadata": {
  "kernelspec": {
   "display_name": "Python 3",
   "language": "python",
   "name": "python3"
  },
  "language_info": {
   "codemirror_mode": {
    "name": "ipython",
    "version": 3
   },
   "file_extension": ".py",
   "mimetype": "text/x-python",
   "name": "python",
   "nbconvert_exporter": "python",
   "pygments_lexer": "ipython3",
   "version": "3.7.5"
  }
 },
 "nbformat": 4,
 "nbformat_minor": 2
}
