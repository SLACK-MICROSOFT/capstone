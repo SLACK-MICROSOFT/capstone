{
 "cells": [
  {
   "cell_type": "markdown",
   "metadata": {},
   "source": [
    "Interesting Graphs to Show For Our Data:\n",
    "    "
   ]
  },
  {
   "cell_type": "markdown",
   "metadata": {},
   "source": [
    "1. We want to show comparative bar graphs regarding the male to female pronoun usage between subreddits. Below is the code for the graph. "
   ]
  },
  {
   "cell_type": "code",
   "execution_count": 4,
   "metadata": {},
   "outputs": [
    {
     "name": "stdout",
     "output_type": "stream",
     "text": [
      "Collecting nltk\n",
      "\u001b[?25l  Downloading https://files.pythonhosted.org/packages/f6/1d/d925cfb4f324ede997f6d47bea4d9babba51b49e87a767c170b77005889d/nltk-3.4.5.zip (1.5MB)\n",
      "\u001b[K     |████████████████████████████████| 1.5MB 1.1MB/s eta 0:00:01\n",
      "\u001b[?25hRequirement already satisfied: six in /opt/conda/lib/python3.7/site-packages (from nltk) (1.13.0)\n",
      "Building wheels for collected packages: nltk\n",
      "  Building wheel for nltk (setup.py) ... \u001b[?25ldone\n",
      "\u001b[?25h  Created wheel for nltk: filename=nltk-3.4.5-cp37-none-any.whl size=1449906 sha256=55ee6a854b443af74c51115510caddf0409836534f391b9295a94409c22d968d\n",
      "  Stored in directory: /home/jovyan/.cache/pip/wheels/96/86/f6/68ab24c23f207c0077381a5e3904b2815136b879538a24b483\n",
      "Successfully built nltk\n",
      "Installing collected packages: nltk\n",
      "Successfully installed nltk-3.4.5\n"
     ]
    }
   ],
   "source": [
    "!pip install nltk"
   ]
  },
  {
   "cell_type": "code",
   "execution_count": 1,
   "metadata": {},
   "outputs": [
    {
     "ename": "TypeError",
     "evalue": "can't pickle dict_keys objects",
     "output_type": "error",
     "traceback": [
      "\u001b[0;31m---------------------------------------------------------------------------\u001b[0m",
      "\u001b[0;31mTypeError\u001b[0m                                 Traceback (most recent call last)",
      "\u001b[0;32m<ipython-input-1-2d61dc4a471a>\u001b[0m in \u001b[0;36m<module>\u001b[0;34m\u001b[0m\n\u001b[1;32m     39\u001b[0m \u001b[0;34m\u001b[0m\u001b[0m\n\u001b[1;32m     40\u001b[0m \u001b[0mcrypto_words\u001b[0m \u001b[0;34m=\u001b[0m \u001b[0mcrypto_filtered_word_freq\u001b[0m\u001b[0;34m.\u001b[0m\u001b[0mkeys\u001b[0m\u001b[0;34m(\u001b[0m\u001b[0;34m)\u001b[0m\u001b[0;34m\u001b[0m\u001b[0;34m\u001b[0m\u001b[0m\n\u001b[0;32m---> 41\u001b[0;31m \u001b[0mget_ipython\u001b[0m\u001b[0;34m(\u001b[0m\u001b[0;34m)\u001b[0m\u001b[0;34m.\u001b[0m\u001b[0mrun_line_magic\u001b[0m\u001b[0;34m(\u001b[0m\u001b[0;34m'store'\u001b[0m\u001b[0;34m,\u001b[0m \u001b[0;34m'crypto_words'\u001b[0m\u001b[0;34m)\u001b[0m\u001b[0;34m\u001b[0m\u001b[0;34m\u001b[0m\u001b[0m\n\u001b[0m\u001b[1;32m     42\u001b[0m \u001b[0mpop_words\u001b[0m \u001b[0;34m=\u001b[0m \u001b[0mpop_filtered_word_freq\u001b[0m\u001b[0;34m.\u001b[0m\u001b[0mkeys\u001b[0m\u001b[0;34m(\u001b[0m\u001b[0;34m)\u001b[0m\u001b[0;34m\u001b[0m\u001b[0;34m\u001b[0m\u001b[0m\n\u001b[1;32m     43\u001b[0m \u001b[0mtxt_words\u001b[0m \u001b[0;34m=\u001b[0m \u001b[0mtxt_filtered_word_freq\u001b[0m\u001b[0;34m.\u001b[0m\u001b[0mkeys\u001b[0m\u001b[0;34m(\u001b[0m\u001b[0;34m)\u001b[0m\u001b[0;34m\u001b[0m\u001b[0;34m\u001b[0m\u001b[0m\n",
      "\u001b[0;32m/usr/local/Cellar/jupyterlab/1.2.3/libexec/lib/python3.7/site-packages/IPython/core/interactiveshell.py\u001b[0m in \u001b[0;36mrun_line_magic\u001b[0;34m(self, magic_name, line, _stack_depth)\u001b[0m\n\u001b[1;32m   2312\u001b[0m                 \u001b[0mkwargs\u001b[0m\u001b[0;34m[\u001b[0m\u001b[0;34m'local_ns'\u001b[0m\u001b[0;34m]\u001b[0m \u001b[0;34m=\u001b[0m \u001b[0msys\u001b[0m\u001b[0;34m.\u001b[0m\u001b[0m_getframe\u001b[0m\u001b[0;34m(\u001b[0m\u001b[0mstack_depth\u001b[0m\u001b[0;34m)\u001b[0m\u001b[0;34m.\u001b[0m\u001b[0mf_locals\u001b[0m\u001b[0;34m\u001b[0m\u001b[0;34m\u001b[0m\u001b[0m\n\u001b[1;32m   2313\u001b[0m             \u001b[0;32mwith\u001b[0m \u001b[0mself\u001b[0m\u001b[0;34m.\u001b[0m\u001b[0mbuiltin_trap\u001b[0m\u001b[0;34m:\u001b[0m\u001b[0;34m\u001b[0m\u001b[0;34m\u001b[0m\u001b[0m\n\u001b[0;32m-> 2314\u001b[0;31m                 \u001b[0mresult\u001b[0m \u001b[0;34m=\u001b[0m \u001b[0mfn\u001b[0m\u001b[0;34m(\u001b[0m\u001b[0;34m*\u001b[0m\u001b[0margs\u001b[0m\u001b[0;34m,\u001b[0m \u001b[0;34m**\u001b[0m\u001b[0mkwargs\u001b[0m\u001b[0;34m)\u001b[0m\u001b[0;34m\u001b[0m\u001b[0;34m\u001b[0m\u001b[0m\n\u001b[0m\u001b[1;32m   2315\u001b[0m             \u001b[0;32mreturn\u001b[0m \u001b[0mresult\u001b[0m\u001b[0;34m\u001b[0m\u001b[0;34m\u001b[0m\u001b[0m\n\u001b[1;32m   2316\u001b[0m \u001b[0;34m\u001b[0m\u001b[0m\n",
      "\u001b[0;32m</usr/local/Cellar/jupyterlab/1.2.3/libexec/lib/python3.7/site-packages/decorator.py:decorator-gen-125>\u001b[0m in \u001b[0;36mstore\u001b[0;34m(self, parameter_s)\u001b[0m\n",
      "\u001b[0;32m/usr/local/Cellar/jupyterlab/1.2.3/libexec/lib/python3.7/site-packages/IPython/core/magic.py\u001b[0m in \u001b[0;36m<lambda>\u001b[0;34m(f, *a, **k)\u001b[0m\n\u001b[1;32m    185\u001b[0m     \u001b[0;31m# but it's overkill for just that one bit of state.\u001b[0m\u001b[0;34m\u001b[0m\u001b[0;34m\u001b[0m\u001b[0;34m\u001b[0m\u001b[0m\n\u001b[1;32m    186\u001b[0m     \u001b[0;32mdef\u001b[0m \u001b[0mmagic_deco\u001b[0m\u001b[0;34m(\u001b[0m\u001b[0marg\u001b[0m\u001b[0;34m)\u001b[0m\u001b[0;34m:\u001b[0m\u001b[0;34m\u001b[0m\u001b[0;34m\u001b[0m\u001b[0m\n\u001b[0;32m--> 187\u001b[0;31m         \u001b[0mcall\u001b[0m \u001b[0;34m=\u001b[0m \u001b[0;32mlambda\u001b[0m \u001b[0mf\u001b[0m\u001b[0;34m,\u001b[0m \u001b[0;34m*\u001b[0m\u001b[0ma\u001b[0m\u001b[0;34m,\u001b[0m \u001b[0;34m**\u001b[0m\u001b[0mk\u001b[0m\u001b[0;34m:\u001b[0m \u001b[0mf\u001b[0m\u001b[0;34m(\u001b[0m\u001b[0;34m*\u001b[0m\u001b[0ma\u001b[0m\u001b[0;34m,\u001b[0m \u001b[0;34m**\u001b[0m\u001b[0mk\u001b[0m\u001b[0;34m)\u001b[0m\u001b[0;34m\u001b[0m\u001b[0;34m\u001b[0m\u001b[0m\n\u001b[0m\u001b[1;32m    188\u001b[0m \u001b[0;34m\u001b[0m\u001b[0m\n\u001b[1;32m    189\u001b[0m         \u001b[0;32mif\u001b[0m \u001b[0mcallable\u001b[0m\u001b[0;34m(\u001b[0m\u001b[0marg\u001b[0m\u001b[0;34m)\u001b[0m\u001b[0;34m:\u001b[0m\u001b[0;34m\u001b[0m\u001b[0;34m\u001b[0m\u001b[0m\n",
      "\u001b[0;32m/usr/local/Cellar/jupyterlab/1.2.3/libexec/lib/python3.7/site-packages/IPython/extensions/storemagic.py\u001b[0m in \u001b[0;36mstore\u001b[0;34m(self, parameter_s)\u001b[0m\n\u001b[1;32m    217\u001b[0m                     \u001b[0;32mreturn\u001b[0m\u001b[0;34m\u001b[0m\u001b[0;34m\u001b[0m\u001b[0m\n\u001b[1;32m    218\u001b[0m                 \u001b[0;31m#pickled = pickle.dumps(obj)\u001b[0m\u001b[0;34m\u001b[0m\u001b[0;34m\u001b[0m\u001b[0;34m\u001b[0m\u001b[0m\n\u001b[0;32m--> 219\u001b[0;31m                 \u001b[0mdb\u001b[0m\u001b[0;34m[\u001b[0m \u001b[0;34m'autorestore/'\u001b[0m \u001b[0;34m+\u001b[0m \u001b[0margs\u001b[0m\u001b[0;34m[\u001b[0m\u001b[0;36m0\u001b[0m\u001b[0;34m]\u001b[0m \u001b[0;34m]\u001b[0m \u001b[0;34m=\u001b[0m \u001b[0mobj\u001b[0m\u001b[0;34m\u001b[0m\u001b[0;34m\u001b[0m\u001b[0m\n\u001b[0m\u001b[1;32m    220\u001b[0m                 \u001b[0mprint\u001b[0m\u001b[0;34m(\u001b[0m\u001b[0;34m\"Stored '%s' (%s)\"\u001b[0m \u001b[0;34m%\u001b[0m \u001b[0;34m(\u001b[0m\u001b[0margs\u001b[0m\u001b[0;34m[\u001b[0m\u001b[0;36m0\u001b[0m\u001b[0;34m]\u001b[0m\u001b[0;34m,\u001b[0m \u001b[0mobj\u001b[0m\u001b[0;34m.\u001b[0m\u001b[0m__class__\u001b[0m\u001b[0;34m.\u001b[0m\u001b[0m__name__\u001b[0m\u001b[0;34m)\u001b[0m\u001b[0;34m)\u001b[0m\u001b[0;34m\u001b[0m\u001b[0;34m\u001b[0m\u001b[0m\n\u001b[1;32m    221\u001b[0m \u001b[0;34m\u001b[0m\u001b[0m\n",
      "\u001b[0;32m/usr/local/Cellar/jupyterlab/1.2.3/libexec/lib/python3.7/site-packages/pickleshare.py\u001b[0m in \u001b[0;36m__setitem__\u001b[0;34m(self, key, value)\u001b[0m\n\u001b[1;32m    116\u001b[0m         \u001b[0;31m# and Python 3. We can upgrade to protocol 3 when Python 2 is obsolete.\u001b[0m\u001b[0;34m\u001b[0m\u001b[0;34m\u001b[0m\u001b[0;34m\u001b[0m\u001b[0m\n\u001b[1;32m    117\u001b[0m         \u001b[0;32mwith\u001b[0m \u001b[0mfil\u001b[0m\u001b[0;34m.\u001b[0m\u001b[0mopen\u001b[0m\u001b[0;34m(\u001b[0m\u001b[0;34m'wb'\u001b[0m\u001b[0;34m)\u001b[0m \u001b[0;32mas\u001b[0m \u001b[0mf\u001b[0m\u001b[0;34m:\u001b[0m\u001b[0;34m\u001b[0m\u001b[0;34m\u001b[0m\u001b[0m\n\u001b[0;32m--> 118\u001b[0;31m             \u001b[0mpickle\u001b[0m\u001b[0;34m.\u001b[0m\u001b[0mdump\u001b[0m\u001b[0;34m(\u001b[0m\u001b[0mvalue\u001b[0m\u001b[0;34m,\u001b[0m \u001b[0mf\u001b[0m\u001b[0;34m,\u001b[0m \u001b[0mprotocol\u001b[0m\u001b[0;34m=\u001b[0m\u001b[0;36m2\u001b[0m\u001b[0;34m)\u001b[0m\u001b[0;34m\u001b[0m\u001b[0;34m\u001b[0m\u001b[0m\n\u001b[0m\u001b[1;32m    119\u001b[0m         \u001b[0;32mtry\u001b[0m\u001b[0;34m:\u001b[0m\u001b[0;34m\u001b[0m\u001b[0;34m\u001b[0m\u001b[0m\n\u001b[1;32m    120\u001b[0m             \u001b[0mself\u001b[0m\u001b[0;34m.\u001b[0m\u001b[0mcache\u001b[0m\u001b[0;34m[\u001b[0m\u001b[0mfil\u001b[0m\u001b[0;34m]\u001b[0m \u001b[0;34m=\u001b[0m \u001b[0;34m(\u001b[0m\u001b[0mvalue\u001b[0m\u001b[0;34m,\u001b[0m \u001b[0mfil\u001b[0m\u001b[0;34m.\u001b[0m\u001b[0mstat\u001b[0m\u001b[0;34m(\u001b[0m\u001b[0;34m)\u001b[0m\u001b[0;34m.\u001b[0m\u001b[0mst_mtime\u001b[0m\u001b[0;34m)\u001b[0m\u001b[0;34m\u001b[0m\u001b[0;34m\u001b[0m\u001b[0m\n",
      "\u001b[0;31mTypeError\u001b[0m: can't pickle dict_keys objects"
     ]
    }
   ],
   "source": [
    "import pandas as pd\n",
    "import nltk\n",
    "from nltk.tokenize import RegexpTokenizer\n",
    "#nltk.download('stopwords')\n",
    "from nltk import punkt\n",
    "from nltk import bigrams\n",
    "from nltk import FreqDist\n",
    "from nltk.corpus import brown\n",
    "import matplotlib.pyplot as plt\n",
    "#nltk.download('gutenberg')\n",
    "\n",
    "\n",
    "\n",
    "crypto_reddit_df = pd.read_csv('data/Comments/combined-comments.csv')\n",
    "pop_reddit_df = pd.read_csv('output.csv')\n",
    "women_reddit_df = pd.read_csv('data/Comments/women_subreddit/Combined-Women-csv')\n",
    "\n",
    "crypto_comments = crypto_reddit_df['comment']\n",
    "pop_comments = pop_reddit_df['comment']\n",
    "women_comments = women_reddit_df['comment']\n",
    "\n",
    "crypto_nltkprep_com = crypto_comments.str.cat(sep='; ')\n",
    "pop_nltkprep_com = pop_comments.str.cat(sep='; ')\n",
    "women_nltkprep_com = women_comments.str.cat(sep='; ')\n",
    "\n",
    "\n",
    "#We want to remove all punctuation from each word. Or else .,? would be the most frequent occurrences\n",
    "tokenizer = RegexpTokenizer(r'\\w+')\n",
    "crypto_tokenized_text = tokenizer.tokenize(crypto_nltkprep_com)\n",
    "pop_tokenized_text = tokenizer.tokenize(pop_nltkprep_com)\n",
    "txt_tokenized_text = nltk.corpus.gutenberg.words('austen-emma.txt')\n",
    "women_tokenized_text = tokenizer.tokenize(women_nltkprep_com)\n",
    "\n",
    "crypto_filtered_word_freq = nltk.FreqDist(crypto_tokenized_text)\n",
    "pop_filtered_word_freq = nltk.FreqDist(pop_tokenized_text)\n",
    "txt_filtered_word_freq = nltk.FreqDist(txt_tokenized_text)\n",
    "women_filtered_word_freq = nltk.FreqDist(women_tokenized_text)\n",
    "\n",
    "\n",
    "crypto_words = crypto_filtered_word_freq.keys()\n",
    "%store crypto_words\n",
    "pop_words = pop_filtered_word_freq.keys()\n",
    "txt_words = txt_filtered_word_freq.keys()\n",
    "women_words = women_filtered_word_freq.keys()\n",
    "\n",
    "women_dict = {\n",
    "    'he':women_filtered_word_freq['he'] / len(women_tokenized_text),\n",
    "    'him':women_filtered_word_freq['him']/ len(women_tokenized_text),\n",
    "    'his':women_filtered_word_freq['his']/ len(women_tokenized_text),\n",
    "    'she':women_filtered_word_freq['she']/ len(women_tokenized_text),\n",
    "    'her':women_filtered_word_freq['her']/ len(women_tokenized_text),\n",
    "    'hers':women_filtered_word_freq['hers']/ len(women_tokenized_text) \n",
    "    }\n",
    "\n",
    "women_male = women_dict['he'] + women_dict['him'] + women_dict['his']\n",
    "women_female = women_dict['she'] + women_dict['her'] + women_dict['hers']\n",
    "\n",
    "\n",
    "txt_dict = {\n",
    "    'he':txt_filtered_word_freq['he'] / len(txt_tokenized_text),\n",
    "    'him':txt_filtered_word_freq['him']/ len(txt_tokenized_text),\n",
    "    'his':txt_filtered_word_freq['his']/ len(txt_tokenized_text),\n",
    "    'she':txt_filtered_word_freq['she']/ len(txt_tokenized_text),\n",
    "    'her':txt_filtered_word_freq['her']/ len(txt_tokenized_text),\n",
    "    'hers':txt_filtered_word_freq['hers']/ len(txt_tokenized_text) \n",
    "    }\n",
    "\n",
    "txt_male = txt_dict['he'] + txt_dict['him'] + txt_dict['his']\n",
    "txt_female = txt_dict['she'] + txt_dict['her'] + txt_dict['hers']\n",
    "\n",
    "crypto_dict = {\n",
    "    'he':crypto_filtered_word_freq['he'] / len(crypto_tokenized_text),\n",
    "    'him':crypto_filtered_word_freq['him']/ len(crypto_tokenized_text),\n",
    "    'his':crypto_filtered_word_freq['his']/ len(crypto_tokenized_text),\n",
    "    'she':crypto_filtered_word_freq['she']/ len(crypto_tokenized_text),\n",
    "    'her':crypto_filtered_word_freq['her']/ len(crypto_tokenized_text),\n",
    "    'hers':crypto_filtered_word_freq['hers']/ len(crypto_tokenized_text) \n",
    "    }\n",
    "\n",
    "crypto_male = crypto_dict['he'] + crypto_dict['him'] + crypto_dict['his']\n",
    "crypto_female = crypto_dict['she'] + crypto_dict['her'] + crypto_dict['hers']\n",
    "\n",
    "pop_dict = {\n",
    "    'he':pop_filtered_word_freq['he'] / len(pop_tokenized_text),\n",
    "    'him':pop_filtered_word_freq['him']/ len(pop_tokenized_text),\n",
    "    'his':pop_filtered_word_freq['his']/ len(pop_tokenized_text),\n",
    "    'she':pop_filtered_word_freq['she']/ len(pop_tokenized_text),\n",
    "    'her':pop_filtered_word_freq['her']/ len(pop_tokenized_text),\n",
    "    'hers':pop_filtered_word_freq['hers']/ len(pop_tokenized_text) \n",
    "}\n",
    "\n",
    "pop_male = pop_dict['he'] + pop_dict['him'] + pop_dict['his']\n",
    "pop_female = pop_dict['she'] + pop_dict['her'] + pop_dict['hers']\n",
    "\n",
    "\n",
    "print(women_male)\n",
    "print(len(women_tokenized_text))\n",
    "\n",
    "data = {'Label': ['Male Pronoun', 'Male Pronoun', 'Male Pronoun', 'Female Pronoun', 'Female Pronoun', 'Female Pronoun'], \n",
    "        'Reddit':['Popular', 'Crypto', 'Emma', 'Popular', 'Crypto', 'Emma'], \n",
    "        'Usage Per Post': [pop_male, crypto_male, txt_male, women_male,\n",
    "                           pop_female, crypto_female, txt_female, women_female]}\n",
    "                                                                                              \n",
    "pronouns_df = pd.DataFrame([[pop_male, pop_female], \n",
    "                            [crypto_male, crypto_female],\n",
    "                            [txt_male, txt_female], \n",
    "                            [women_male, women_female]],\n",
    "                           columns=['Male Pronoun', 'Female Pronoun'])\n",
    "\n",
    "pronouns_df['Subreddit'] = ['Popular', 'Cryptocurrency', 'Emma', 'Female Subreddits']\n",
    "pronouns_df = pronouns_df.set_index('Subreddit')\n",
    "ax = pronouns_df.plot(kind = 'bar')\n",
    "ax.set_ylabel('Usage Per Comment')\n"
   ]
  },
  {
   "cell_type": "markdown",
   "metadata": {},
   "source": [
    "2. Next, we want to show the bar graphs regarding male and female gendered words and how prevalent they are. "
   ]
  },
  {
   "cell_type": "code",
   "execution_count": 93,
   "metadata": {},
   "outputs": [
    {
     "data": {
      "text/plain": [
       "Text(0, 0.5, 'Usage Per Comment')"
      ]
     },
     "execution_count": 93,
     "metadata": {},
     "output_type": "execute_result"
    },
    {
     "data": {
      "image/png": "[encoded data removed]",
      "text/plain": [
       "<Figure size 1440x720 with 1 Axes>"
      ]
     },
     "metadata": {
      "needs_background": "light"
     },
     "output_type": "display_data"
    }
   ],
   "source": [
    "all_man_words = {}\n",
    "male_genderness_words = {}\n",
    "female_genderness_words = {}\n",
    " \n",
    "gendered_word_list_m = ['man-made', 'manpower', 'mankind',  'Caveman', 'hitman','Chairman', 'mans', 'salesman', 'middleman', 'businessman', 'man', 'frontman', 'freshman', 'cameraman', 'Anchorman', 'salesman', 'fisherman', 'manmade', 'mailman', \n",
    "                        'Gentleman', 'caveman', 'plowman', 'congressman', 'manyboy', 'craftsman', 'foreman', 'Salesman', 'mankind', 'gentleman', 'tradesman', 'clergyman', 'coachman', 'coachmen', 'gentlemen', 'Gentlemen', 'workmen'\n",
    "                       'horseman', 'Horseman', 'mansplaining', 'mansplainer', 'mansplain',  'manspreading', 'layman', 'manosphere', 'manly', 'silverman', 'manlihood', 'dude', 'bro']\n",
    "gendered_word_list_f = ['woman', 'women', 'Women','girl','Woman','Cavewoman', 'cavewoman', 'congresswoman', 'Chairwoman', 'spokeswoman', 'gentlewoman', 'horsewoman', 'superwoman', 'womanhood', \n",
    "                       'sportswoman', 'womankind', 'Catwoman', 'womansplaining', 'womanist', 'womanly', 'womenhood', 'saleswomen', 'askwomen', 'Askwomen', 'womenz', 'women_who_have_been_successful_in_showing_their', 'unwomen', 'womenofscience', 'housewomen', 'businesswomen', 'bluecollarwomen']\n",
    "    \n",
    "    \n",
    "def gendered_words( total_words, dict_of_words):\n",
    "    for key in total_words:\n",
    "        if (key[-3:] == 'man'):\n",
    "            all_man_words[key] = key\n",
    "        elif (key[:3] == 'man'):\n",
    "            all_man_words[key] = key\n",
    "    #print(all_man_words.keys())\n",
    "    m_count = 0\n",
    "    \n",
    "    for index in gendered_word_list_m: \n",
    "        if index in dict_of_words:\n",
    "            male_genderness_words[index] = dict_of_words[index]\n",
    "            m_count += dict_of_words[index]\n",
    "\n",
    "    f_count = 0\n",
    "    for index in gendered_word_list_f: \n",
    "        if index in all_man_words:\n",
    "            female_genderness_words[index] = dict_of_words[index]\n",
    "            f_count += dict_of_words[index]\n",
    "    \n",
    "    return (m_count, f_count)\n",
    "\n",
    "\n",
    "crypto_gen = gendered_words(crypto_filtered_word_freq.keys(), crypto_filtered_word_freq)\n",
    "pop_gen = gendered_words(pop_filtered_word_freq.keys(), pop_filtered_word_freq)\n",
    "txt_gen = gendered_words(txt_filtered_word_freq.keys(), txt_filtered_word_freq)\n",
    "women_gen = gendered_words(women_filtered_word_freq.keys(), women_filtered_word_freq)\n",
    "\n",
    "\n",
    "data = {'Label': ['Male Gendered Word', 'Male Gendered Word', 'Male Gendered Word',\n",
    "                  'Female Gendered Word', 'Female Gendered Word', 'Female Gendered Word'],\n",
    "        'Reddit':['Popular', 'Crypto', 'Emma', 'Popular', 'Crypto', 'Emma'], \n",
    "        'Usage Per Post': [pop_gen[0] / len(pop_tokenized_text), crypto_gen[0] / len(crypto_tokenized_text), txt_gen[0] / len(txt_tokenized_text), women_gen[0] / len(women_tokenized_text), \n",
    "                           pop_gen[1] / len(pop_tokenized_text), crypto_gen[1] / len(crypto_tokenized_text), txt_gen[1] / len(txt_tokenized_text), women_gen[1] / len(women_tokenized_text)]}\n",
    "\n",
    "gendered_df = pd.DataFrame([[pop_gen[0] / len(pop_tokenized_text), pop_gen[1] / len(pop_tokenized_text)], \n",
    "                            [crypto_gen[0] / len(crypto_tokenized_text), crypto_gen[1] / len(crypto_tokenized_text)], \n",
    "                            [txt_gen[0] / len(txt_tokenized_text), txt_gen[1] / len(txt_tokenized_text)],\n",
    "                            [women_gen[0] / len(women_tokenized_text), women_gen[1] / len(women_tokenized_text)]],\n",
    "                           columns=['Male Gendered Word', 'Female Gendered Word'])\n",
    "\n",
    "gendered_df['Subreddit'] = ['Popular', 'Cryptocurrency', 'Emma', 'Women Subreddits']\n",
    "gendered_df = gendered_df.set_index('Subreddit')\n",
    "ax = gendered_df.plot(kind = 'bar', color = ['b', 'pink'], figsize = [20, 10])\n",
    "ax.set_ylabel('Usage Per Comment')\n",
    "\n"
   ]
  },
  {
   "cell_type": "markdown",
   "metadata": {},
   "source": [
    "3. We will conduct a regression analysis in order to prove that the crypto currency reddits are statistically significant among all data. \n",
    "The analytic we will use to determine statistical significance is what percent of the female gendered words make up the male gendered\n"
   ]
  },
  {
   "cell_type": "code",
   "execution_count": 94,
   "metadata": {},
   "outputs": [
    {
     "data": {
      "text/html": [
       "<div>\n",
       "<style scoped>\n",
       "    .dataframe tbody tr th:only-of-type {\n",
       "        vertical-align: middle;\n",
       "    }\n",
       "\n",
       "    .dataframe tbody tr th {\n",
       "        vertical-align: top;\n",
       "    }\n",
       "\n",
       "    .dataframe thead th {\n",
       "        text-align: right;\n",
       "    }\n",
       "</style>\n",
       "<table border=\"1\" class=\"dataframe\">\n",
       "  <thead>\n",
       "    <tr style=\"text-align: right;\">\n",
       "      <th></th>\n",
       "      <th>Male Pronoun</th>\n",
       "      <th>Female Pronoun</th>\n",
       "      <th>Percent of Male</th>\n",
       "    </tr>\n",
       "    <tr>\n",
       "      <th>Subreddit</th>\n",
       "      <th></th>\n",
       "      <th></th>\n",
       "      <th></th>\n",
       "    </tr>\n",
       "  </thead>\n",
       "  <tbody>\n",
       "    <tr>\n",
       "      <th>Popular</th>\n",
       "      <td>0.005265</td>\n",
       "      <td>0.002287</td>\n",
       "      <td>0.434382</td>\n",
       "    </tr>\n",
       "    <tr>\n",
       "      <th>Cryptocurrency</th>\n",
       "      <td>0.002208</td>\n",
       "      <td>0.000206</td>\n",
       "      <td>0.093379</td>\n",
       "    </tr>\n",
       "    <tr>\n",
       "      <th>Emma</th>\n",
       "      <td>0.016687</td>\n",
       "      <td>0.021717</td>\n",
       "      <td>1.301464</td>\n",
       "    </tr>\n",
       "    <tr>\n",
       "      <th>Female Subreddits</th>\n",
       "      <td>0.007764</td>\n",
       "      <td>0.004385</td>\n",
       "      <td>0.564817</td>\n",
       "    </tr>\n",
       "  </tbody>\n",
       "</table>\n",
       "</div>"
      ],
      "text/plain": [
       "                   Male Pronoun  Female Pronoun  Percent of Male\n",
       "Subreddit                                                       \n",
       "Popular                0.005265        0.002287         0.434382\n",
       "Cryptocurrency         0.002208        0.000206         0.093379\n",
       "Emma                   0.016687        0.021717         1.301464\n",
       "Female Subreddits      0.007764        0.004385         0.564817"
      ]
     },
     "execution_count": 94,
     "metadata": {},
     "output_type": "execute_result"
    }
   ],
   "source": [
    "import statsmodels.api as sm\n",
    "\n",
    "\n",
    "\n",
    "\n",
    "\n",
    "\n",
    "#X = df[\"RM\"]\n",
    "#y = target[\"MEDV\"]\n",
    "\n",
    "# Note the difference in argument order\n",
    "#model = sm.OLS(y, X).fit()\n",
    "#predictions = model.predict(X) # make the predictions by the model\n",
    "\n",
    "# Print out the statistics\n",
    "#model.summary()\n",
    "\n",
    "gendered_df['Percent of Male'] = gendered_df['Female Gendered Word'] / gendered_df['Male Gendered Word']\n",
    "gendered_df\n",
    "\n",
    "pronouns_df['Percent of Male'] = pronouns_df['Female Pronoun'] / pronouns_df['Male Pronoun']\n",
    "pronouns_df\n"
   ]
  },
  {
   "cell_type": "code",
   "execution_count": null,
   "metadata": {},
   "outputs": [],
   "source": []
  }
 ],
 "metadata": {
  "kernelspec": {
   "display_name": "Python 3",
   "language": "python",
   "name": "python3"
  },
  "language_info": {
   "codemirror_mode": {
    "name": "ipython",
    "version": 3
   },
   "file_extension": ".py",
   "mimetype": "text/x-python",
   "name": "python",
   "nbconvert_exporter": "python",
   "pygments_lexer": "ipython3",
   "version": "3.7.5"
  }
 },
 "nbformat": 4,
 "nbformat_minor": 2
}
