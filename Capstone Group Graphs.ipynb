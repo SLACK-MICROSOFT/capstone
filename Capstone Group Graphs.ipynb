{
 "cells": [
  {
   "cell_type": "markdown",
   "metadata": {},
   "source": [
    "Interesting Graphs to Show For Our Data:\n",
    "    "
   ]
  },
  {
   "cell_type": "markdown",
   "metadata": {},
   "source": [
    "1. We want to show comparative bar graphs regarding the male to female pronoun usage between subreddits. Below is the code for the graph. "
   ]
  },
  {
   "cell_type": "code",
   "execution_count": 4,
   "metadata": {},
   "outputs": [
    {
     "name": "stdout",
     "output_type": "stream",
     "text": [
      "Collecting nltk\n",
      "\u001b[?25l  Downloading https://files.pythonhosted.org/packages/f6/1d/d925cfb4f324ede997f6d47bea4d9babba51b49e87a767c170b77005889d/nltk-3.4.5.zip (1.5MB)\n",
      "\u001b[K     |████████████████████████████████| 1.5MB 1.1MB/s eta 0:00:01\n",
      "\u001b[?25hRequirement already satisfied: six in /opt/conda/lib/python3.7/site-packages (from nltk) (1.13.0)\n",
      "Building wheels for collected packages: nltk\n",
      "  Building wheel for nltk (setup.py) ... \u001b[?25ldone\n",
      "\u001b[?25h  Created wheel for nltk: filename=nltk-3.4.5-cp37-none-any.whl size=1449906 sha256=55ee6a854b443af74c51115510caddf0409836534f391b9295a94409c22d968d\n",
      "  Stored in directory: /home/jovyan/.cache/pip/wheels/96/86/f6/68ab24c23f207c0077381a5e3904b2815136b879538a24b483\n",
      "Successfully built nltk\n",
      "Installing collected packages: nltk\n",
      "Successfully installed nltk-3.4.5\n"
     ]
    }
   ],
   "source": [
    "!pip install nltk"
   ]
  },
  {
   "cell_type": "code",
   "execution_count": 31,
   "metadata": {},
   "outputs": [
    {
     "name": "stderr",
     "output_type": "stream",
     "text": [
      "[nltk_data] Downloading package stopwords to /home/jovyan/nltk_data...\n",
      "[nltk_data]   Package stopwords is already up-to-date!\n"
     ]
    },
    {
     "name": "stdout",
     "output_type": "stream",
     "text": [
      "1844\n",
      "350210\n"
     ]
    },
    {
     "data": {
      "text/plain": [
       "Text(0, 0.5, 'Usage Per Comment')"
      ]
     },
     "execution_count": 31,
     "metadata": {},
     "output_type": "execute_result"
    },
    {
     "data": {
      "image/png": "[encoded data removed]",
      "text/plain": [
       "<Figure size 432x288 with 1 Axes>"
      ]
     },
     "metadata": {
      "needs_background": "light"
     },
     "output_type": "display_data"
    }
   ],
   "source": [
    "import pandas as pd\n",
    "import nltk\n",
    "from nltk.tokenize import RegexpTokenizer\n",
    "nltk.download('stopwords')\n",
    "from nltk import punkt\n",
    "from nltk import bigrams\n",
    "from nltk import FreqDist\n",
    "from nltk.corpus import brown\n",
    "import matplotlib.pyplot as plt\n",
    "\n",
    "\n",
    "\n",
    "crypto_reddit_df = pd.read_csv('data/Comments/combined-comments.csv')\n",
    "pop_reddit_df = pd.read_csv('output.csv')\n",
    "\n",
    "crypto_comments = crypto_reddit_df['comment']\n",
    "pop_comments = pop_reddit_df['comment']\n",
    "\n",
    "crypto_nltkprep_com = crypto_comments.str.cat(sep='; ')\n",
    "pop_nltkprep_com = pop_comments.str.cat(sep='; ')\n",
    "\n",
    "#We want to remove all punctuation from each word. Or else .,? would be the most frequent occurrences\n",
    "tokenizer = RegexpTokenizer(r'\\w+')\n",
    "crypto_tokenized_text = tokenizer.tokenize(crypto_nltkprep_com)\n",
    "pop_tokenized_text = tokenizer.tokenize(pop_nltkprep_com)\n",
    "\n",
    "crypto_filtered_word_freq = nltk.FreqDist(crypto_tokenized_text)\n",
    "pop_filtered_word_freq = nltk.FreqDist(pop_tokenized_text)\n",
    "\n",
    "crypto_words = crypto_filtered_word_freq.keys()\n",
    "pop_words = pop_filtered_word_freq.keys()\n",
    "\n",
    "crypto_dict = {\n",
    "    'he':crypto_filtered_word_freq['he'] / len(crypto_tokenized_text),\n",
    "    'him':crypto_filtered_word_freq['him']/ len(crypto_tokenized_text),\n",
    "    'his':crypto_filtered_word_freq['his']/ len(crypto_tokenized_text),\n",
    "    'she':crypto_filtered_word_freq['she']/ len(crypto_tokenized_text),\n",
    "    'her':crypto_filtered_word_freq['her']/ len(crypto_tokenized_text),\n",
    "    'hers':crypto_filtered_word_freq['hers']/ len(crypto_tokenized_text) \n",
    "    }\n",
    "\n",
    "crypto_male = crypto_filtered_word_freq['he'] + crypto_filtered_word_freq['him'] + crypto_filtered_word_freq['his']\n",
    "crypto_female = crypto_filtered_word_freq['she'] + crypto_filtered_word_freq['her'] + crypto_filtered_word_freq['hers']\n",
    "\n",
    "pop_dict = {\n",
    "    'he':pop_filtered_word_freq['he'] / len(pop_tokenized_text),\n",
    "    'him':pop_filtered_word_freq['him']/ len(pop_tokenized_text),\n",
    "    'his':pop_filtered_word_freq['his']/ len(pop_tokenized_text),\n",
    "    'she':pop_filtered_word_freq['she']/ len(pop_tokenized_text),\n",
    "    'her':pop_filtered_word_freq['her']/ len(pop_tokenized_text),\n",
    "    'hers':pop_filtered_word_freq['hers']/ len(pop_tokenized_text) \n",
    "}\n",
    "\n",
    "pop_male = pop_filtered_word_freq['he'] + pop_filtered_word_freq['him'] + pop_filtered_word_freq['his']\n",
    "pop_female = pop_filtered_word_freq['she'] + pop_filtered_word_freq['her'] + pop_filtered_word_freq['hers']\n",
    "\n",
    "print(pop_male)\n",
    "print(len(pop_tokenized_text))\n",
    "\n",
    "data = {'Label': ['Male Pronoun', 'Male Pronoun', 'Female Pronoun', 'Female Pronoun'], 'Reddit':['Popular', 'Crypto', 'Popular', 'Crypto'], 'Usage Per Post': [pop_male / len(pop_tokenized_text), crypto_male / len(crypto_tokenized_text), pop_female / len(pop_tokenized_text), crypto_female / len(crypto_tokenized_text)]}\n",
    "pronouns_df = pd.DataFrame([[pop_male / len(pop_tokenized_text), pop_female / len(pop_tokenized_text)], [crypto_male / len(crypto_tokenized_text), crypto_female / len(crypto_tokenized_text)]], columns=['Male Pronoun', 'Female Pronoun'])\n",
    "\n",
    "pronouns_df['Subreddit'] = ['Popular', 'Cryptocurrency']\n",
    "pronouns_df = pronouns_df.set_index('Subreddit')\n",
    "ax = pronouns_df.plot(kind = 'bar')\n",
    "ax.set_ylabel('Usage Per Comment')\n"
   ]
  },
  {
   "cell_type": "markdown",
   "metadata": {},
   "source": [
    "2. Next, we want to show the bar graphs regarding male and female gendered words and how prevalent they are. "
   ]
  },
  {
   "cell_type": "code",
   "execution_count": 46,
   "metadata": {},
   "outputs": [
    {
     "data": {
      "text/plain": [
       "Text(0, 0.5, 'Usage Per Comment')"
      ]
     },
     "execution_count": 46,
     "metadata": {},
     "output_type": "execute_result"
    },
    {
     "data": {
      "image/png": "[encoded data removed]",
      "text/plain": [
       "<Figure size 432x288 with 1 Axes>"
      ]
     },
     "metadata": {
      "needs_background": "light"
     },
     "output_type": "display_data"
    }
   ],
   "source": [
    "all_man_words = {}\n",
    "male_genderness_words = {}\n",
    "female_genderness_words = {}\n",
    " \n",
    "gendered_word_list_m = ['man-made', 'manpower', 'mankind',  'Caveman', 'hitman','Chairman', 'mans', 'salesman', 'middleman', 'businessman', 'man', 'frontman', 'freshman', 'cameraman', 'Anchorman', 'salesman', 'fisherman', 'manmade', 'mailman', 'Gentleman', 'caveman', 'plowman', 'congressman', 'manyboy', 'craftsman', 'foreman', 'Salesman', 'mankind']\n",
    "gendered_word_list_f = ['woman', 'girl','Woman','Cavewoman', 'cavewoman', 'congresswoman', 'Chairwoman', 'spokeswoman']\n",
    "    \n",
    "    \n",
    "def gendered_words( total_words, dict_of_words):\n",
    "    for key in total_words:\n",
    "        if key[-3:] == 'man':\n",
    "            all_man_words[key] = key\n",
    "        elif key[:3] == 'man':\n",
    "            all_man_words[key] = key\n",
    "\n",
    "    m_count = 0\n",
    "    for index in gendered_word_list_m: \n",
    "        if index in all_man_words:\n",
    "            male_genderness_words[index] = all_man_words[index]\n",
    "            m_count += dict_of_words[index]\n",
    "\n",
    "    f_count = 0\n",
    "    for index in gendered_word_list_f: \n",
    "        if index in all_man_words:\n",
    "            female_genderness_words[index] = all_man_words[index]\n",
    "            f_count += dict_of_words[index]\n",
    "    \n",
    "    return (m_count, f_count)\n",
    "\n",
    "\n",
    "crypto_gen = gendered_words(crypto_filtered_word_freq.keys(), crypto_filtered_word_freq)\n",
    "pop_gen = gendered_words(pop_filtered_word_freq.keys(), pop_filtered_word_freq)\n",
    "\n",
    "        \n",
    "data = {'Label': ['Male Gendered Word', 'Male Gendered Word', 'Female Gendered Word', 'Female Gendered Word'], 'Reddit':['Popular', 'Crypto', 'Popular', 'Crypto'], 'Usage Per Post': [pop_gen[0] / len(pop_tokenized_text), crypto_gen[0] / len(crypto_tokenized_text), pop_gen[1] / len(pop_tokenized_text), crypto_gen[1] / len(crypto_tokenized_text)]}\n",
    "gendered_df = pd.DataFrame([[pop_gen[0] / len(pop_tokenized_text), pop_gen[1] / len(pop_tokenized_text)], [crypto_gen[0] / len(crypto_tokenized_text), crypto_gen[1] / len(crypto_tokenized_text)]], columns=['Male Gendered Word', 'Female Gendered Word'])\n",
    "\n",
    "gendered_df['Subreddit'] = ['Popular', 'Cryptocurrency']\n",
    "gendered_df = gendered_df.set_index('Subreddit')\n",
    "ax = gendered_df.plot(kind = 'bar', color = ['b', 'pink'])\n",
    "ax.set_ylabel('Usage Per Comment')\n",
    "\n"
   ]
  },
  {
   "cell_type": "code",
   "execution_count": null,
   "metadata": {},
   "outputs": [],
   "source": []
  }
 ],
 "metadata": {
  "kernelspec": {
   "display_name": "Python 3",
   "language": "python",
   "name": "python3"
  },
  "language_info": {
   "codemirror_mode": {
    "name": "ipython",
    "version": 3
   },
   "file_extension": ".py",
   "mimetype": "text/x-python",
   "name": "python",
   "nbconvert_exporter": "python",
   "pygments_lexer": "ipython3",
   "version": "3.7.3"
  }
 },
 "nbformat": 4,
 "nbformat_minor": 2
}
