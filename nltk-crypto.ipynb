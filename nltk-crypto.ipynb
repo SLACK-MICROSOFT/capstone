{
 "cells": [
  {
   "cell_type": "code",
   "execution_count": 5,
   "metadata": {},
   "outputs": [
    {
     "name": "stdout",
     "output_type": "stream",
     "text": [
      "Collecting nltk\n",
      "\u001b[?25l  Downloading https://files.pythonhosted.org/packages/f6/1d/d925cfb4f324ede997f6d47bea4d9babba51b49e87a767c170b77005889d/nltk-3.4.5.zip (1.5MB)\n",
      "\u001b[K     |████████████████████████████████| 1.5MB 721kB/s eta 0:00:01     |██████████████████████████▋     | 1.2MB 721kB/s eta 0:00:01\n",
      "\u001b[?25hRequirement already satisfied: six in /opt/conda/lib/python3.7/site-packages (from nltk) (1.13.0)\n",
      "Building wheels for collected packages: nltk\n",
      "  Building wheel for nltk (setup.py) ... \u001b[?25ldone\n",
      "\u001b[?25h  Created wheel for nltk: filename=nltk-3.4.5-cp37-none-any.whl size=1449909 sha256=6ce3d470c3c0579c33ef70995cbee267d63b93c4284bad879c56dd01c453ae46\n",
      "  Stored in directory: /home/jovyan/.cache/pip/wheels/96/86/f6/68ab24c23f207c0077381a5e3904b2815136b879538a24b483\n",
      "Successfully built nltk\n",
      "Installing collected packages: nltk\n",
      "Successfully installed nltk-3.4.5\n"
     ]
    }
   ],
   "source": [
    "!pip install nltk"
   ]
  },
  {
   "cell_type": "code",
   "execution_count": 2,
   "metadata": {},
   "outputs": [
    {
     "name": "stderr",
     "output_type": "stream",
     "text": [
      "[nltk_data] Downloading package stopwords to\n",
      "[nltk_data]     /Users/rosalindkidwell/nltk_data...\n",
      "[nltk_data]   Unzipping corpora/stopwords.zip.\n"
     ]
    }
   ],
   "source": [
    "\n",
    "import nltk \n",
    "\n",
    "nltk.download('stopwords')\n",
    "from nltk import FreqDist\n",
    "from nltk.corpus import brown\n",
    "import pandas as pd\n",
    "import matplotlib as plt"
   ]
  },
  {
   "cell_type": "code",
   "execution_count": 3,
   "metadata": {},
   "outputs": [
    {
     "name": "stdout",
     "output_type": "stream",
     "text": [
      "     Unnamed: 0                                            comment  \\\n",
      "0             0  Founded in 2017, GoChain started with an idea ...   \n",
      "1             1                     i would like to learn that too   \n",
      "2             2  TLDR margin means you borrow money to trade, y...   \n",
      "3             3  A nice short answer, thanks! Two follow-up que...   \n",
      "4             4  Yes 3x means  3 times of your asset value.\\nEg...   \n",
      "...         ...                                                ...   \n",
      "6997         69                  Traffic of what site?\\n\\n&#x200B;   \n",
      "6998         70  Ok yeah huge decrease in a year, but where exa...   \n",
      "6999         71                                     This subreddit   \n",
      "7000         72                                Got it thanks mate.   \n",
      "7001          \u001a                                                NaN   \n",
      "\n",
      "      Unnamed: 2  Unnamed: 3  Unnamed: 4  Unnamed: 5  Unnamed: 6  Unnamed: 7  \n",
      "0            NaN         NaN         NaN         NaN         NaN         NaN  \n",
      "1            NaN         NaN         NaN         NaN         NaN         NaN  \n",
      "2            NaN         NaN         NaN         NaN         NaN         NaN  \n",
      "3            NaN         NaN         NaN         NaN         NaN         NaN  \n",
      "4            NaN         NaN         NaN         NaN         NaN         NaN  \n",
      "...          ...         ...         ...         ...         ...         ...  \n",
      "6997         NaN         NaN         NaN         NaN         NaN         NaN  \n",
      "6998         NaN         NaN         NaN         NaN         NaN         NaN  \n",
      "6999         NaN         NaN         NaN         NaN         NaN         NaN  \n",
      "7000         NaN         NaN         NaN         NaN         NaN         NaN  \n",
      "7001         NaN         NaN         NaN         NaN         NaN         NaN  \n",
      "\n",
      "[7002 rows x 8 columns]\n"
     ]
    }
   ],
   "source": [
    "#Need to gather all data into a long text string.We want to use df['comment'] for our comments. \n",
    "\n",
    "df = pd.read_csv('data/Comments/combined-comments.csv')\n",
    "\n",
    "#titles = df['title']\n",
    "#body = df['body']\n",
    "print(df)\n",
    "comments = df['comment']"
   ]
  },
  {
   "cell_type": "code",
   "execution_count": 9,
   "metadata": {},
   "outputs": [],
   "source": [
    "nltkprep_com = comments.str.cat(sep='; ')"
   ]
  },
  {
   "cell_type": "code",
   "execution_count": 12,
   "metadata": {},
   "outputs": [
    {
     "name": "stdout",
     "output_type": "stream",
     "text": [
      "266774\n",
      "147064\n",
      "16194\n"
     ]
    }
   ],
   "source": [
    "#Right now, this divides it into sentences. We want to remove stopwords first \n",
    "from nltk.tokenize import RegexpTokenizer\n",
    "\n",
    "#We want to remove all punctuation from each word. Or else .,? would be the most frequent occurrences\n",
    "tokenizer = RegexpTokenizer(r'\\w+')\n",
    "\n",
    "\n",
    "tokenized_text = tokenizer.tokenize(nltkprep_com)\n",
    "\n",
    "stopwords = nltk.corpus.stopwords.words('english')\n",
    "stopwords.extend(['I', 'https', 'like', 'this', 'you', 'com', 'www', 'The', 'You'])\n",
    "\n",
    "\n",
    "print(len(tokenized_text))\n",
    "filtered_tokenized_text = [word for word in tokenized_text if word not in stopwords]\n",
    "print(len(filtered_tokenized_text))\n",
    "\n",
    "filtered_word_freq = nltk.FreqDist(filtered_tokenized_text)\n",
    "#filtered_word_freq = nltk.FreqDist(tokenized_text)\n",
    "filtered_word_freq\n",
    "\n",
    "words = filtered_word_freq.keys()\n",
    "\n",
    "#print(words)\n",
    "\n",
    "print(len(words))\n",
    "\n"
   ]
  },
  {
   "cell_type": "code",
   "execution_count": 13,
   "metadata": {},
   "outputs": [
    {
     "data": {
      "image/png": "[encoded data removed]",
      "text/plain": [
       "<Figure size 432x288 with 1 Axes>"
      ]
     },
     "metadata": {
      "needs_background": "light"
     },
     "output_type": "display_data"
    },
    {
     "data": {
      "text/plain": [
       "<matplotlib.axes._subplots.AxesSubplot at 0x7f494628c908>"
      ]
     },
     "execution_count": 13,
     "metadata": {},
     "output_type": "execute_result"
    }
   ],
   "source": [
    "ax = filtered_word_freq.plot(20, title = 'Most Common Words in Subreddit Comments')\n",
    "\n",
    "ax"
   ]
  },
  {
   "cell_type": "code",
   "execution_count": 62,
   "metadata": {},
   "outputs": [
    {
     "name": "stdout",
     "output_type": "stream",
     "text": [
      "16348\n",
      "57\n"
     ]
    },
    {
     "data": {
      "text/plain": [
       "{'manches': 1,\n",
       " 'many': 247,\n",
       " 'manipulated': 21,\n",
       " 'manipulation': 16,\n",
       " 'manners': 3,\n",
       " 'manually': 6,\n",
       " 'manual': 1,\n",
       " 'manage': 12,\n",
       " 'managing': 3,\n",
       " 'manipulating': 2,\n",
       " 'man': 57,\n",
       " 'managed': 10,\n",
       " 'manner': 13,\n",
       " 'german': 3,\n",
       " 'manipulable': 1,\n",
       " 'manager': 3,\n",
       " 'human': 9,\n",
       " 'manufacturers': 3,\n",
       " 'manages': 3,\n",
       " 'manufacturer': 4,\n",
       " 'Batman': 1,\n",
       " 'manipulations': 3,\n",
       " 'manipulate': 14,\n",
       " 'manipulative': 1,\n",
       " 'manipulators': 3,\n",
       " 'Goldman': 3,\n",
       " 'woman': 6,\n",
       " 'businessman': 1,\n",
       " 'Smittywerbenjagerman': 1,\n",
       " 'mantra': 2,\n",
       " 'manufacture': 4,\n",
       " 'middleman': 2,\n",
       " 'mandatory': 3,\n",
       " 'salesman': 2,\n",
       " 'mans': 1,\n",
       " 'Roman': 1,\n",
       " 'management': 5,\n",
       " 'Chairman': 5,\n",
       " 'strawman': 1,\n",
       " 'manufacturing': 4,\n",
       " 'Hirchman': 1,\n",
       " 'mansion': 1,\n",
       " 'hitman': 4,\n",
       " 'mania': 3,\n",
       " 'German': 1,\n",
       " 'Caveman': 1,\n",
       " 'manufactor': 1}"
      ]
     },
     "execution_count": 62,
     "metadata": {},
     "output_type": "execute_result"
    }
   ],
   "source": [
    "#But what if we removed the stopwords to measure masculine/feminine pronouns? Let's look at the example below.\n",
    "\n",
    "tokenizer = RegexpTokenizer(r'\\w+')\n",
    "tokenized_text = tokenizer.tokenize(nltkprep_com)\n",
    "\n",
    "#print(len(tokenized_text))\n",
    "\n",
    "filtered_tokenized_text = [word for word in tokenized_text]\n",
    "#print(filtered_tokenized_text)\n",
    "filtered_word_freq = nltk.FreqDist(filtered_tokenized_text)\n",
    "filtered_word_freq\n",
    "\n",
    "words = filtered_word_freq.keys()\n",
    "\n",
    "\n",
    "print(len(words))\n",
    "\n",
    "dict = {\n",
    "    'he':filtered_word_freq['he'] / len(tokenized_text),\n",
    "    'him':filtered_word_freq['him']/ len(tokenized_text),\n",
    "    'his':filtered_word_freq['his']/ len(tokenized_text),\n",
    "    'she':filtered_word_freq['she']/ len(tokenized_text),\n",
    "    'her':filtered_word_freq['her']/ len(tokenized_text),\n",
    "    'hers':filtered_word_freq['hers']/ len(tokenized_text) \n",
    "    }\n",
    "                             \n",
    "print(filtered_word_freq['man'])\n",
    "\n",
    "subject_gender = {}\n",
    "    \n",
    "for key in filtered_word_freq.keys():\n",
    "    if key[-3:] == 'man':\n",
    "        subject_gender[key] = filtered_word_freq[key]\n",
    "    elif key[:3] == 'man':\n",
    "        subject_gender[key] = filtered_word_freq[key]\n",
    "\n",
    "fluff_words = ['german', 'human', 'Batman', 'Goldman', 'Smittywerbenjagerman', 'Roman', 'German']\n",
    "\n",
    "\n",
    "subject_gender"
   ]
  },
  {
   "cell_type": "code",
   "execution_count": null,
   "metadata": {},
   "outputs": [],
   "source": []
  }
 ],
 "metadata": {
  "kernelspec": {
   "display_name": "Python 3",
   "language": "python",
   "name": "python3"
  },
  "language_info": {
   "codemirror_mode": {
    "name": "ipython",
    "version": 3
   },
   "file_extension": ".py",
   "mimetype": "text/x-python",
   "name": "python",
   "nbconvert_exporter": "python",
   "pygments_lexer": "ipython3",
   "version": "3.7.5"
  }
 },
 "nbformat": 4,
 "nbformat_minor": 2
}
