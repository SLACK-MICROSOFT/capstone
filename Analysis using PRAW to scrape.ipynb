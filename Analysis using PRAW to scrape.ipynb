{
 "cells": [
  {
   "cell_type": "markdown",
   "metadata": {},
   "source": [
    "This file uses PRAW to scrape Reddit data and is our first attempt."
   ]
  },
  {
   "cell_type": "code",
   "execution_count": 1,
   "metadata": {},
   "outputs": [
    {
     "name": "stdout",
     "output_type": "stream",
     "text": [
      "Collecting praw\n",
      "\u001b[?25l  Downloading https://files.pythonhosted.org/packages/25/c0/b9714b4fb164368843b41482a3cac11938021871adf99bf5aaa3980b0182/praw-6.5.1-py3-none-any.whl (134kB)\n",
      "\u001b[K     |████████████████████████████████| 143kB 1.9MB/s eta 0:00:01\n",
      "\u001b[?25hCollecting websocket-client>=0.54.0\n",
      "\u001b[?25l  Downloading https://files.pythonhosted.org/packages/4c/5f/f61b420143ed1c8dc69f9eaec5ff1ac36109d52c80de49d66e0c36c3dfdf/websocket_client-0.57.0-py2.py3-none-any.whl (200kB)\n",
      "\u001b[K     |████████████████████████████████| 204kB 2.7MB/s eta 0:00:01\n",
      "\u001b[?25hCollecting prawcore<2.0,>=1.0.1\n",
      "  Downloading https://files.pythonhosted.org/packages/76/b5/ce6282dea45cba6f08a30e25d18e0f3d33277e2c9fcbda75644b8dc0089b/prawcore-1.0.1-py2.py3-none-any.whl\n",
      "Collecting update-checker>=0.16\n",
      "  Downloading https://files.pythonhosted.org/packages/17/c9/ab11855af164d03be0ff4fddd4c46a5bd44799a9ecc1770e01a669c21168/update_checker-0.16-py2.py3-none-any.whl\n",
      "Requirement already satisfied: six in /opt/conda/lib/python3.7/site-packages (from websocket-client>=0.54.0->praw) (1.13.0)\n",
      "Requirement already satisfied: requests<3.0,>=2.6.0 in /opt/conda/lib/python3.7/site-packages (from prawcore<2.0,>=1.0.1->praw) (2.22.0)\n",
      "Requirement already satisfied: certifi>=2017.4.17 in /opt/conda/lib/python3.7/site-packages (from requests<3.0,>=2.6.0->prawcore<2.0,>=1.0.1->praw) (2019.9.11)\n",
      "Requirement already satisfied: chardet<3.1.0,>=3.0.2 in /opt/conda/lib/python3.7/site-packages (from requests<3.0,>=2.6.0->prawcore<2.0,>=1.0.1->praw) (3.0.4)\n",
      "Requirement already satisfied: idna<2.9,>=2.5 in /opt/conda/lib/python3.7/site-packages (from requests<3.0,>=2.6.0->prawcore<2.0,>=1.0.1->praw) (2.8)\n",
      "Requirement already satisfied: urllib3!=1.25.0,!=1.25.1,<1.26,>=1.21.1 in /opt/conda/lib/python3.7/site-packages (from requests<3.0,>=2.6.0->prawcore<2.0,>=1.0.1->praw) (1.25.6)\n",
      "Installing collected packages: websocket-client, prawcore, update-checker, praw\n",
      "Successfully installed praw-6.5.1 prawcore-1.0.1 update-checker-0.16 websocket-client-0.57.0\n",
      "Note: you may need to restart the kernel to use updated packages.\n"
     ]
    }
   ],
   "source": [
    "pip install praw"
   ]
  },
  {
   "cell_type": "code",
   "execution_count": 2,
   "metadata": {},
   "outputs": [],
   "source": [
    "import praw\n",
    "import pandas as pd\n",
    "\n",
    "#We will be using the PRAW software to be assessing the comments. \n",
    "reddit = praw.Reddit(client_id='VhM4sHs0IsJENw',\n",
    "                     client_secret='OXmCpF-xVJGKdXWAi-ZuoL7qXu4',\n",
    "                     password='U$H4$rVbS6nK!e$',\n",
    "                     user_agent='testscript by /u/crypto_capstone',\n",
    "                     username='crypto_capstone')"
   ]
  },
  {
   "cell_type": "code",
   "execution_count": 11,
   "metadata": {},
   "outputs": [],
   "source": [
    "#We are looking at ten different subreddits:\n",
    "#r/cryptocurrency, r/bitcoin, r/BTC, r/CryptoCurrencies, r/crypto_currency_news, r/binance, r/icocrypto, r/cryptomarkets, r/gpumining, r/bitcoinbeginners\n",
    "cc_subreddit = reddit.subreddit('allwomen')"
   ]
  },
  {
   "cell_type": "code",
   "execution_count": 12,
   "metadata": {},
   "outputs": [
    {
     "name": "stdout",
     "output_type": "stream",
     "text": [
      "**Welcome to All Women, the place for discussing and celebrating intersectional feminism!**\n",
      "\n",
      "[AllWomen abides by the Anti-Oppression Policy.](https://www.reddit.com/r/aop/wiki/index)\n",
      "\n",
      "*(sidebar image courtesy of UNCA Feminist Collective)*\n",
      "\n",
      ">[Join our chat!](http://webchat.freenode.net?channels=%23allwomen&uio=OT10cnVlJjExPTMwOAfd)\n",
      "\n",
      "#Rules & regulations:\n",
      "\n",
      "\n",
      "- This is an explicitly trans-inclusive subreddit. Any TERFs that feel the need to attack or speak over trans members will be banned. \n",
      "\n",
      "- Feel free to bring anything involving race, religion, LGBT+, disability, ethnicity, body image and anything else that could be observed parallel to feminism to the table. \n",
      "\n",
      "- BE CIVIL. Before submitting, please read the disclaimer provided in the submission text. Any comments that could be considered insensitive or offensive towards any oppressed group will be removed at first notice. \n",
      "\n",
      "- Before asking questions, please do a quick search on the matter to spare marginalized groups in AllWomen of answering otherwise ignorant or careless questions. Many questions can be answered easily through a Google search. If not, you are free to create a thread asking for elaboration. \n",
      "\n",
      "- Civil & insightful feminists regardless of gender are welcome to join the conversation. \n",
      "\n",
      "- If you find a spam post, please be careful when clicking and report it to the mods immediately. \n",
      "\n",
      "Thank you for helping All Women remain a safe space for all.\n",
      "\n",
      "#Resources:\n",
      "\n",
      "\n",
      "**Intersectionality: The observation & study of how different forms of oppression intersect with one another.**\n",
      "\n",
      "\n",
      "[Geek Feminism: Intersectionality](http://geekfeminism.wikia.com/wiki/Intersectionality)\n",
      "\n",
      "[Everyday Feminism - Intersectional Feminism For Your Everyday Life](http://everydayfeminism.com)\n",
      "\n",
      "[Jill of All Trades: \"Intersectional Feminism: What it is And Why It's Important\"](http://www.thejillofalltradesblog.com/2015/04/intersectional-feminism-what-it-is-and-why-its-important.html)\n",
      "\n",
      "[Tiger Beatdown: \"MY FEMINISM WILL BE INTERSECTIONAL OR IT WILL BE BULLSHIT!\"](http://tigerbeatdown.com/2011/10/10/my-feminism-will-be-intersectional-or-it-will-be-bullshit/)\n",
      "\n",
      "**White Feminism: A type of feminism that prioritizes the rights of white women over women of color.**\n",
      "\n",
      "\n",
      "[Battymamzelle: \"This Is What I Mean When I Say White Feminism\"](http://battymamzelle.blogspot.com/2014/01/This-Is-What-I-Mean-When-I-Say-White-Feminism.html#.Va7Gu3gbC1s)\n",
      "\n",
      "[Dear White Feminists: \"An Open Letter to the White Feminist Community\"](https://dearwhitefeminists.wordpress.com/2008/04/17/an-open-letter-to-the-white-feminist-community/)\n",
      "\n",
      "**More great resources:**\n",
      "\n",
      "\n",
      "[Huge list of feminist & sexism-free subreddits, courtesy of r/FemmeThoughts!](https://www.reddit.com/r/FemmeThoughts/wiki/related)\n"
     ]
    }
   ],
   "source": [
    "#get CryptoCurrency subreddit data\n",
    "print(cc_subreddit.description)"
   ]
  },
  {
   "cell_type": "code",
   "execution_count": 13,
   "metadata": {},
   "outputs": [
    {
     "data": {
      "text/html": [
       "<div>\n",
       "<style scoped>\n",
       "    .dataframe tbody tr th:only-of-type {\n",
       "        vertical-align: middle;\n",
       "    }\n",
       "\n",
       "    .dataframe tbody tr th {\n",
       "        vertical-align: top;\n",
       "    }\n",
       "\n",
       "    .dataframe thead th {\n",
       "        text-align: right;\n",
       "    }\n",
       "</style>\n",
       "<table border=\"1\" class=\"dataframe\">\n",
       "  <thead>\n",
       "    <tr style=\"text-align: right;\">\n",
       "      <th></th>\n",
       "      <th>comment</th>\n",
       "    </tr>\n",
       "  </thead>\n",
       "  <tbody>\n",
       "    <tr>\n",
       "      <th>0</th>\n",
       "      <td>I wish I wasn't encouraged to hide my \"problem...</td>\n",
       "    </tr>\n",
       "    <tr>\n",
       "      <th>1</th>\n",
       "      <td>Stop spamming this subreddit</td>\n",
       "    </tr>\n",
       "    <tr>\n",
       "      <th>2</th>\n",
       "      <td>Here's a news article about it if you don't wa...</td>\n",
       "    </tr>\n",
       "    <tr>\n",
       "      <th>3</th>\n",
       "      <td>I’m going to copy and paste what I commented o...</td>\n",
       "    </tr>\n",
       "    <tr>\n",
       "      <th>4</th>\n",
       "      <td>What a trashy question.</td>\n",
       "    </tr>\n",
       "    <tr>\n",
       "      <th>...</th>\n",
       "      <td>...</td>\n",
       "    </tr>\n",
       "    <tr>\n",
       "      <th>239</th>\n",
       "      <td>Thank you for this</td>\n",
       "    </tr>\n",
       "    <tr>\n",
       "      <th>240</th>\n",
       "      <td>A white person's never going to fully understa...</td>\n",
       "    </tr>\n",
       "    <tr>\n",
       "      <th>241</th>\n",
       "      <td>Thanks for the extensive reply, I read and app...</td>\n",
       "    </tr>\n",
       "    <tr>\n",
       "      <th>242</th>\n",
       "      <td>Haha yeah, the default subs, especially their ...</td>\n",
       "    </tr>\n",
       "    <tr>\n",
       "      <th>243</th>\n",
       "      <td>Ah, you're a mod *here*.  That changes the way...</td>\n",
       "    </tr>\n",
       "  </tbody>\n",
       "</table>\n",
       "<p>244 rows × 1 columns</p>\n",
       "</div>"
      ],
      "text/plain": [
       "                                               comment\n",
       "0    I wish I wasn't encouraged to hide my \"problem...\n",
       "1                         Stop spamming this subreddit\n",
       "2    Here's a news article about it if you don't wa...\n",
       "3    I’m going to copy and paste what I commented o...\n",
       "4                              What a trashy question.\n",
       "..                                                 ...\n",
       "239                                Thank you for this \n",
       "240  A white person's never going to fully understa...\n",
       "241  Thanks for the extensive reply, I read and app...\n",
       "242  Haha yeah, the default subs, especially their ...\n",
       "243  Ah, you're a mod *here*.  That changes the way...\n",
       "\n",
       "[244 rows x 1 columns]"
      ]
     },
     "execution_count": 13,
     "metadata": {},
     "output_type": "execute_result"
    }
   ],
   "source": [
    "#get the most recent posts from whichever cryptocurrency subreddit selected create a dataframe\n",
    "#for cryptocurrency posts, we limit the first 1000 \n",
    "#for cryptocurrency subreddit comments, we limit the first 100 posts\n",
    "\n",
    "posts = []\n",
    "new_posts = cc_subreddit.new(limit = 100)\n",
    "\n",
    "arr_comments = []\n",
    "\n",
    "\n",
    "for post in new_posts:\n",
    "    \n",
    "    posts.append([post.title, post.score, post.id, post.subreddit, post.url, post.num_comments, post.selftext, post.created])\n",
    "    \n",
    "    post.comments.replace_more(limit=0)\n",
    "    \n",
    "    #Since we just want the comments for their text, we do not need to know whether comments are replies to each other. \n",
    "    for comment in post.comments.list():\n",
    "        arr_comments.append(comment.body)\n",
    "        \n",
    "#Finally, we create a dataframe that has the number of the comment and the physical comment itself. \n",
    "posts = pd.DataFrame(arr_comments, columns = ['comment'])\n",
    "\n",
    "#Lastly, we save all of the comments to a csv file, which will have the same name as the subreddit we have selected.\n",
    "posts.to_csv(r'data/Comments/women_subreddit/allwomen_comments.csv')\n",
    "\n",
    "posts"
   ]
  },
  {
   "cell_type": "code",
   "execution_count": null,
   "metadata": {},
   "outputs": [],
   "source": []
  }
 ],
 "metadata": {
  "kernelspec": {
   "display_name": "Python 3",
   "language": "python",
   "name": "python3"
  },
  "language_info": {
   "codemirror_mode": {
    "name": "ipython",
    "version": 3
   },
   "file_extension": ".py",
   "mimetype": "text/x-python",
   "name": "python",
   "nbconvert_exporter": "python",
   "pygments_lexer": "ipython3",
   "version": "3.7.3"
  }
 },
 "nbformat": 4,
 "nbformat_minor": 2
}
