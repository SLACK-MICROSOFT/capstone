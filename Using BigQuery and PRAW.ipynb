{
 "cells": [
  {
   "cell_type": "markdown",
   "metadata": {},
   "source": [
    "In this notebook, we are testing BigQuery to scrape data.\n",
    "Using https://towardsdatascience.com/scrape-reddit-data-using-python-and-google-bigquery-44180b579892 for guidance."
   ]
  },
  {
   "cell_type": "code",
   "execution_count": 1,
   "metadata": {},
   "outputs": [],
   "source": [
    "import praw\n",
    "import pandas as pd"
   ]
  },
  {
   "cell_type": "code",
   "execution_count": 2,
   "metadata": {},
   "outputs": [],
   "source": [
    "reddit = praw.Reddit(client_id='VhM4sHs0IsJENw',\n",
    "                     client_secret='OXmCpF-xVJGKdXWAi-ZuoL7qXu4',\n",
    "                     password='U$H4$rVbS6nK!e$',\n",
    "                     user_agent='testscript by /u/crypto_capstone',\n",
    "                     username='crypto_capstone')"
   ]
  },
  {
   "cell_type": "markdown",
   "metadata": {},
   "source": [
    "In this loop, first we are getting each submission information at the start of the loop and then extracting all the comment ids and storing them in list."
   ]
  },
  {
   "cell_type": "code",
   "execution_count": 6,
   "metadata": {},
   "outputs": [],
   "source": [
    "comm_list = []\n",
    "header_list = []\n",
    "i = 0\n",
    "for submission in reddit.subreddit('cryptocurrency').hot(limit=2):\n",
    "    submission.comments.replace_more(limit=None)\n",
    "    comment_queue = submission.comments[:]  # Seed with top-level\n",
    "    while comment_queue:\n",
    "        header_list.append(submission.title)\n",
    "        comment = comment_queue.pop(0)\n",
    "        comm_list.append(comment.body)\n",
    "        t = []\n",
    "        t.extend(comment.replies)\n",
    "        while t:\n",
    "            header_list.append(submission.title)\n",
    "            reply = t.pop(0)\n",
    "            comm_list.append(reply.body)"
   ]
  },
  {
   "cell_type": "code",
   "execution_count": 7,
   "metadata": {},
   "outputs": [],
   "source": [
    "comm_list = []\n",
    "header_list = []\n",
    "i = 0\n",
    "for submission in reddit.subreddit('cordcutters').hot(limit=2):\n",
    "    submission.comments.replace_more(limit=None)\n",
    "    comment_queue = submission.comments[:]  # Seed with top-level"
   ]
  },
  {
   "cell_type": "code",
   "execution_count": 8,
   "metadata": {},
   "outputs": [
    {
     "data": {
      "text/plain": [
       "[Comment(id='f7lsv87'),\n",
       " Comment(id='f7lifse'),\n",
       " Comment(id='f7lup3s'),\n",
       " Comment(id='f7ljvex'),\n",
       " Comment(id='f7lk2hj'),\n",
       " Comment(id='f7ljy5l'),\n",
       " Comment(id='f7m379o'),\n",
       " Comment(id='f7ln7ey'),\n",
       " Comment(id='f7ljup4'),\n",
       " Comment(id='f7ljydj'),\n",
       " Comment(id='f7lk51x'),\n",
       " Comment(id='f7lqqtb'),\n",
       " Comment(id='f7mlfaa'),\n",
       " Comment(id='f7lk98p'),\n",
       " Comment(id='f7m02bv'),\n",
       " Comment(id='f7lix6b'),\n",
       " Comment(id='f7lilv8'),\n",
       " Comment(id='f7lmq8t'),\n",
       " Comment(id='f7lla7m'),\n",
       " Comment(id='f7n05g1'),\n",
       " Comment(id='f7odyt0'),\n",
       " Comment(id='f7ljccf'),\n",
       " Comment(id='f7llffw'),\n",
       " Comment(id='f7mgl6s'),\n",
       " Comment(id='f7mk12h'),\n",
       " Comment(id='f7ljlgo'),\n",
       " Comment(id='f7llqcs'),\n",
       " Comment(id='f7lsqf3'),\n",
       " Comment(id='f7lw8em'),\n",
       " Comment(id='f7lx1w3'),\n",
       " Comment(id='f7m01s2'),\n",
       " Comment(id='f7m6jp2'),\n",
       " Comment(id='f7mc4au'),\n",
       " Comment(id='f7mmizx'),\n",
       " Comment(id='f7mv521'),\n",
       " Comment(id='f7nlxg3'),\n",
       " Comment(id='f7nrjfw'),\n",
       " Comment(id='f7nuxry'),\n",
       " Comment(id='f7p2k8f'),\n",
       " Comment(id='f7qous2'),\n",
       " Comment(id='f7tks4d'),\n",
       " Comment(id='f7lkesk'),\n",
       " Comment(id='f7lkf8b'),\n",
       " Comment(id='f7los4w'),\n",
       " Comment(id='f7n0hnw'),\n",
       " Comment(id='f7mw00b'),\n",
       " Comment(id='f7lrogk')]"
      ]
     },
     "execution_count": 8,
     "metadata": {},
     "output_type": "execute_result"
    }
   ],
   "source": [
    "comment_queue\n"
   ]
  },
  {
   "cell_type": "code",
   "execution_count": 9,
   "metadata": {},
   "outputs": [],
   "source": [
    "comm_list = []\n",
    "header_list = []\n",
    "i = 0\n",
    "for submission in reddit.subreddit('cryptocurrency').hot(limit=2):\n",
    "    submission.comments.replace_more(limit=None)\n",
    "    comment_queue = submission.comments[:]  # Seed with top-level\n",
    "    while comment_queue:\n",
    "        header_list.append(submission.title)\n",
    "        comment = comment_queue.pop(0)\n",
    "        comm_list.append(comment.body)\n",
    "        t = []\n",
    "        t.extend(comment.replies)"
   ]
  },
  {
   "cell_type": "code",
   "execution_count": 10,
   "metadata": {},
   "outputs": [],
   "source": [
    "while comment_queue:\n",
    "    header_list.append(submission.title)\n",
    "    comment = comment_queue.pop(0)\n",
    "    comm_list.append(comment.body)\n",
    "    t = []\n",
    "    t.extend(comment.replies)\n",
    "    while t:\n",
    "        header_list.append(submission.title)\n",
    "        reply = t.pop(0)\n",
    "        comm_list.append(reply.body)"
   ]
  },
  {
   "cell_type": "code",
   "execution_count": 11,
   "metadata": {},
   "outputs": [
    {
     "data": {
      "text/plain": [
       "['[Monthly Skeptics Discussion - November, 2019](https://nm.reddit.com/r/CryptoCurrency/comments/dpwj98/monthly_skeptics_discussion_november_2019/) \\n \\n***  \\n\\n\\n*I am a bot, and this action was performed automatically. Please [contact the moderators of this subreddit](/message/compose/?to=/r/CryptoCurrency) if you have any questions or concerns.*',\n",
       " 'This is why I think an explosion is just ahead:\\n\\n [https://i.imgur.com/3ozEvNF.png](https://i.imgur.com/3ozEvNF.png) \\n\\nMy guess is Bitcoin will breka up when with the tightening of the 3D bbands which should happen in 2-8 days from here. We might see a earlier breakout from the falling wedge but remain first in the 3D bband zone and have then the BGD right afterwards. \\n\\nWondering what will happen with the Alt ratios then... :)',\n",
       " 'Then, the Earth was no longer recognizable, and Chimera was born. A radioactive wasteland, almost empty except for the super-structures extending towards the heavens - the Citadels. 33 were created, but only 9 remained fully functional and protected. The underrail system was flawless, but its perfection became a security issue, and the remaining Citadels had to isolate themselves. The year was 2021.. the Mayans were right - we fucked up the math and thought it was mythology..',\n",
       " 'Im moving to Binance US.                                 \\nI used to do fiat > CoinBase Pro > USDC > Binance. All free.                    \\nCant do that on the US site. Is there any feeless way in?',\n",
       " 'Shit is starting to boil! Wait for the buum!',\n",
       " 'Finally earn a profit on those ETH price predictions:\\n\\n[Simple Options](https://np.reddit.com/r/ethtrader/comments/dx73aq/smart_contract_based_binary_options_market_simple/)',\n",
       " 'Wow no tether print during the whole week last week. This is example of supply of demand in the real bitcoin market.',\n",
       " 'What are your predictions for the alt market in 2020?',\n",
       " \"Hey everyone, i'm posting this because I don't want my fellow redditors losing their money on a P&D scam. I posted the issues Chainlink is facing in the previous daily but thought i'd share it here as well. If you hold this coin it looks like it could be the next bitconnect. \\n\\nTurns out their having server problems, which is a serious concern. How can enterprises trust a company that cannot even keep their product online when it has so few users. Also the fact the team never thought to back up Chainlink on a cloud like google shows they are very stupid.\\n\\nLink: [https://blog.chain.link/weapologize](https://blog.chain.link/weapologize)\",\n",
       " \"Does anybody have any views on which will be the first really usable privacy protocol?\\n\\nwill it be an improvement on Snarks or RingCT........ Or will it be something totally new based on new cryptographic proofs?\\n\\ninterested to hear people's views.\",\n",
       " 'I am absolutely stunned with the Brave browser. After maybe 3-4 months of using it I know have forgotten what ads are. There are only a couple of websites I need to disable the ad blocker for them to work. The rest work seamless with the blocker. And I have received 125 BAT from just browsing the internet as I normally do. Incredible. I was able to withdraw these funds today and put them into a Binance wallet. I cant believe how amazing this technology is and how we are getting rewarded for doing what we normally do without the pain of ads. Just amazing technology and something everyone should be using IMO.',\n",
       " 'What ever happened with Enigma (ENG)? Any recent updates?',\n",
       " 'anything related to china\\'s communist party and crypto should be shunned or outright attacked. the murderous ccp doesn\\'t want to use blockchain tech to free their people, they want to totally control and enslave them. \\n\\n*‘Absolutely No Mercy’: Leaked Files Expose How China Organized Mass Detentions of Muslims\\nMore than 400 pages of internal Chinese documents provide an unprecedented inside look at the crackdown on ethnic minorities in the Xinjiang region\"*\\nhttps://www.nytimes.com/interactive/2019/11/16/world/asia/china-xinjiang-documents.html',\n",
       " 'warning : \\n\\nmulti collateral dai launches in two days .\\n\\nadoption of defi is about to accelerate .\\n\\nperfect time to put a little more btc into eth or mkr .\\n\\ngood luck with your trades and have a nice day .',\n",
       " 'Decred is taking a breather\\n\\nThe Koreans were all over it yesterday',\n",
       " 'ENG up 28%',\n",
       " '**Cryptocurrency and Blockchain – Industry News – (11.08.19 – 11.15.19)**\\n\\n*Total Market Cap, as of 11.15.19 at 12:00pm (PST): U.S. $233,002,095,198 (- 2.75%)*\\n\\n***Missed the last news update?*** [*Click here for a summary*](https://www.reddit.com/r/CryptoCurrency/comments/dtobn8/daily_discussion_november_9_2019_gmt0/f6zffqm/?context=3)\\n\\n**STORY OF THE WEEK**\\n\\n· The Shanghai headquarters of the **People’s Bank of China (PBOC)** and **Shanghai Municipal Financial Regulatory Bureau** ordered district administrative offices to investigate cryptocurrency related activities in the city and complete inspection by November 22nd, 2019.\\n\\n**CRYPTOCURRENCY TRADING SERVICES**\\n\\n· **Paxos** has launched a product allowing traders on cryptocurrency exchanges to fund accounts using a swap tool that facilitates trades between U.S. dollars and various stablecoins. **Binance** will be first exchange to integrate the new product.\\n\\n· Cryptocurrency wallet and investment app **Abra** adds support for 60 new cryptocurrencies and increases fiat withdrawals and deposits.\\n\\n· **OKEx** has launched a Bitcoin (BTC) futures contracts margined using Tether (USDT). Users will be able to take long and short positions against the contract and the product will offer up to 100x leverage.\\n\\n· Korean exchange **Bithumb** has launched an exchange token named Bithumb Coin under the ticket “BT”. Half of all exchange revenue earned will be used to buy 50% of the total supply over time.\\n\\n· **Crypto.com** announced the launch of a new exchange service open to beta testers on November 18th, 2019 with a public rollout scheduled to happen sometime in December.\\n\\n**REGULATION**\\n\\n· The **U.S. Commodity Futures Trading Commission (CFTC)** has approved **Tassat** (previously **trueDigital**) to offer physically settled bitcoin margin swaps.\\n\\n· After suspending Iranian users on its platform back in 2017, **Bittrex** will return frozen holdings back to the affected users. During that time, the **U.S. Treasury Office of Foreign Control (OFAC)** required Bittrex to disable Iranian user accounts as it was not allowed to service countries sanctioned by the U.S\\n\\n**INSTITUTIONALIZATION**\\n\\n· The fintech arm of Chinese tech giant **Alibaba Group**, **Ant Financial** has launched the test net of its blockchain network aimed to support small and medium sized businesses.\\n\\n· The **Chicago Mercantile Exchange (CME)** will be launching options on Bitcoin futures on January 13th, 2020 pending regulatory approval.\\n\\n· **Bakkt** has opened its custody services for all institutional clients, not just its customers who trade its bitcoin futures contracts.\\n\\n**TECHNOLOGY**\\n\\n· White label exchange software provider **AlphaPoint** is offering support for margin trading.\\n\\n· In collaboration with **Nervos Network**, **Huobi** has open sourced its own native blockchain dubbed “Huobi Chain”. A testnet launch is scheduled to happen in Q1 of 2020, with a mainnet launch to following shortly after.\\n\\n**TWITTER**\\n\\n· **@cryptunez** – *“just hit one full bitcoin anyone can do this, i’m not special. all it took was 2 years, 5,000 hours of screen time and a starting balance of 10 BTC”*\\n\\n· **@jimmysong** – *“A centralized Blockchain is just a database that everyone can see. The amount of mental gymnastics necessary to justify such a nothingburger into a technological panacea is Olympic level.”*\\n\\n· **@BTC\\\\_Macro** *– “The greatest risk isn’t owning crypto and it going to zero. The greatest risk is owning no crypto and it changing the world. Don’t get left behind.”*',\n",
       " 'Mods are sleeping, post AION links',\n",
       " 'Does anyone know anything about walton chain mainnet swap date? Its been 3 years and they still havent had a mainnet or swap.. just ridiculous at this point',\n",
       " \"Just received my WACKD airdrop. Not really sure if I should sell some, hodl or buy more.\\n\\nI mean if BOMB was able to reach a marketcap of 10m, WACKD could really have a enormous upside posential. \\nAfter all BOMB was initiated by some nobodys while WACKD was initiated and is shilled by Mcafee. You don't have to like him neighter do I but it's undeniable that he has a great reach in the crypto cummunity with more than 1mil followers.\\n\\nWould love to hear some opinions.\",\n",
       " 'Thinking about selling my VET stack and putting it into something else except I cannot choose or pick what coin as they’re all projects!',\n",
       " '#FIRST',\n",
       " 'told you to short vet',\n",
       " 'RLC!!!!!!!!',\n",
       " 'Or he bought under 0.2 and sold at 3.5?',\n",
       " 'Hence the fucked up mini van',\n",
       " 'Well they could have bought it from somone trying to recover loses',\n",
       " 'lol! So good with the bumpy car!',\n",
       " 'If you know the potential that Ripple and xrp have then you‘d still fomo at 3.5$',\n",
       " 'Why is everyone slashing XRP here?']"
      ]
     },
     "execution_count": 11,
     "metadata": {},
     "output_type": "execute_result"
    }
   ],
   "source": [
    "comm_list\n"
   ]
  },
  {
   "cell_type": "markdown",
   "metadata": {},
   "source": [
    "Below, we are creating a dataframe using headers and comments from the Cryptocurrency subreddit."
   ]
  },
  {
   "cell_type": "code",
   "execution_count": 12,
   "metadata": {},
   "outputs": [
    {
     "data": {
      "text/html": [
       "<div>\n",
       "<style scoped>\n",
       "    .dataframe tbody tr th:only-of-type {\n",
       "        vertical-align: middle;\n",
       "    }\n",
       "\n",
       "    .dataframe tbody tr th {\n",
       "        vertical-align: top;\n",
       "    }\n",
       "\n",
       "    .dataframe thead th {\n",
       "        text-align: right;\n",
       "    }\n",
       "</style>\n",
       "<table border=\"1\" class=\"dataframe\">\n",
       "  <thead>\n",
       "    <tr style=\"text-align: right;\">\n",
       "      <th></th>\n",
       "      <th>0</th>\n",
       "      <th>comm_list</th>\n",
       "    </tr>\n",
       "  </thead>\n",
       "  <tbody>\n",
       "    <tr>\n",
       "      <td>0</td>\n",
       "      <td>Daily Discussion - November 17, 2019 (GMT+0)</td>\n",
       "      <td>[Monthly Skeptics Discussion - November, 2019]...</td>\n",
       "    </tr>\n",
       "    <tr>\n",
       "      <td>1</td>\n",
       "      <td>Daily Discussion - November 17, 2019 (GMT+0)</td>\n",
       "      <td>This is why I think an explosion is just ahead...</td>\n",
       "    </tr>\n",
       "    <tr>\n",
       "      <td>2</td>\n",
       "      <td>Daily Discussion - November 17, 2019 (GMT+0)</td>\n",
       "      <td>Then, the Earth was no longer recognizable, an...</td>\n",
       "    </tr>\n",
       "    <tr>\n",
       "      <td>3</td>\n",
       "      <td>Daily Discussion - November 17, 2019 (GMT+0)</td>\n",
       "      <td>Im moving to Binance US.                      ...</td>\n",
       "    </tr>\n",
       "    <tr>\n",
       "      <td>4</td>\n",
       "      <td>Daily Discussion - November 17, 2019 (GMT+0)</td>\n",
       "      <td>Shit is starting to boil! Wait for the buum!</td>\n",
       "    </tr>\n",
       "  </tbody>\n",
       "</table>\n",
       "</div>"
      ],
      "text/plain": [
       "                                              0  \\\n",
       "0  Daily Discussion - November 17, 2019 (GMT+0)   \n",
       "1  Daily Discussion - November 17, 2019 (GMT+0)   \n",
       "2  Daily Discussion - November 17, 2019 (GMT+0)   \n",
       "3  Daily Discussion - November 17, 2019 (GMT+0)   \n",
       "4  Daily Discussion - November 17, 2019 (GMT+0)   \n",
       "\n",
       "                                           comm_list  \n",
       "0  [Monthly Skeptics Discussion - November, 2019]...  \n",
       "1  This is why I think an explosion is just ahead...  \n",
       "2  Then, the Earth was no longer recognizable, an...  \n",
       "3  Im moving to Binance US.                      ...  \n",
       "4       Shit is starting to boil! Wait for the buum!  "
      ]
     },
     "execution_count": 12,
     "metadata": {},
     "output_type": "execute_result"
    }
   ],
   "source": [
    "df = pd.DataFrame(header_list)\n",
    "df['comm_list'] = comm_list\n",
    "df.head()"
   ]
  },
  {
   "cell_type": "markdown",
   "metadata": {},
   "source": [
    "Cleaning data to remove '/n' after each comment"
   ]
  },
  {
   "cell_type": "code",
   "execution_count": 13,
   "metadata": {},
   "outputs": [],
   "source": [
    "df.columns = ['header','comments']\n",
    "df['comments'] = df['comments'].apply(lambda x : x.replace('\\n',''))\n"
   ]
  },
  {
   "cell_type": "markdown",
   "metadata": {},
   "source": [
    "Exporting data to CSV file."
   ]
  },
  {
   "cell_type": "code",
   "execution_count": 14,
   "metadata": {},
   "outputs": [],
   "source": [
    "df.to_csv('cryptocurrency_comments.csv',index = False)"
   ]
  }
 ],
 "metadata": {
  "kernelspec": {
   "display_name": "Python 3",
   "language": "python",
   "name": "python3"
  },
  "language_info": {
   "codemirror_mode": {
    "name": "ipython",
    "version": 3
   },
   "file_extension": ".py",
   "mimetype": "text/x-python",
   "name": "python",
   "nbconvert_exporter": "python",
   "pygments_lexer": "ipython3",
   "version": "3.7.4"
  }
 },
 "nbformat": 4,
 "nbformat_minor": 2
}
