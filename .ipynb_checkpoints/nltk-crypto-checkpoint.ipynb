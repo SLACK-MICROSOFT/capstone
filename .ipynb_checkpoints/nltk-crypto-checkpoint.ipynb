{
 "cells": [
  {
   "cell_type": "code",
   "execution_count": 1,
   "metadata": {},
   "outputs": [
    {
     "name": "stdout",
     "output_type": "stream",
     "text": [
      "Collecting nltk\n",
      "\u001b[?25l  Downloading https://files.pythonhosted.org/packages/f6/1d/d925cfb4f324ede997f6d47bea4d9babba51b49e87a767c170b77005889d/nltk-3.4.5.zip (1.5MB)\n",
      "\u001b[K     |████████████████████████████████| 1.5MB 1.1MB/s eta 0:00:01\n",
      "\u001b[?25hRequirement already satisfied: six in /opt/conda/lib/python3.7/site-packages (from nltk) (1.13.0)\n",
      "Building wheels for collected packages: nltk\n",
      "  Building wheel for nltk (setup.py) ... \u001b[?25ldone\n",
      "\u001b[?25h  Created wheel for nltk: filename=nltk-3.4.5-cp37-none-any.whl size=1449908 sha256=4b0a22f16e743e2ea86fe5d9cd7384e53edbed455c60a7b10ec8c3fff06df467\n",
      "  Stored in directory: /home/jovyan/.cache/pip/wheels/96/86/f6/68ab24c23f207c0077381a5e3904b2815136b879538a24b483\n",
      "Successfully built nltk\n",
      "Installing collected packages: nltk\n",
      "Successfully installed nltk-3.4.5\n"
     ]
    }
   ],
   "source": [
    "!pip install nltk"
   ]
  },
  {
   "cell_type": "code",
   "execution_count": 2,
   "metadata": {},
   "outputs": [
    {
     "name": "stderr",
     "output_type": "stream",
     "text": [
       
      "[nltk_data] Downloading package stopwords to /home/jovyan/nltk_data...\n",

      "[nltk_data]   Unzipping corpora/stopwords.zip.\n"
     ]
    }
   ],
   "source": [
    "\n",
    "import nltk \n",
    "\n",
    "nltk.download('stopwords')\n",
    "from nltk import punkt\n",
    "from nltk import bigrams\n",
    "from nltk import FreqDist\n",
    "from nltk.corpus import brown\n",
    "import pandas as pd\n",
    "import matplotlib as plt"
   ]
  },
  {
   "cell_type": "code",

   "execution_count": 13,

   "metadata": {},
   "outputs": [
    {
     "name": "stdout",
     "output_type": "stream",
     "text": [
      "      Unnamed: 0                                            comment\n",
      "0              0                                           Reading.\n",
      "1              1  All the time.\\n\\n(also great to see a good nar...\n",
      "2              2                        This should bend nicely. ;)\n",
      "3              3                                             r/xmen\n",
      "4              4  It likely depends on your location, countries,...\n",
      "...          ...                                                ...\n",
      "12685       1461  This is the best tl;dr I could make, [original...\n",
      "12686       1462             They would run into it, over and over.\n",
      "12687       1463  This is the best tl;dr I could make, [original...\n",
      "12688       1464  I do like how he’s saying new ways need to be ...\n",
      "12689          \u001a                                                NaN\n",
      "\n",
      "[12690 rows x 2 columns]\n"
     ]
    }
   ],
   "source": [
    "#Need to gather all data into a long text string.We want to use df['comment'] for our comments. \n",
    "\n",
    "#df = pd.read_csv('data/Comments/combined-comments.csv')\n",
    "df = pd.read_csv('output.csv')\n",
    "\n",
    "#titles = df['title']\n",
    "#body = df['body']\n",
    "print(df)\n",
    "comments = df['comment']"
   ]
  },
  {
   "cell_type": "code",
   "execution_count": 14,
   "metadata": {},
   "outputs": [],
   "source": [
    "nltkprep_com = comments.str.cat(sep='; ')"
   ]
  },
  {
   "cell_type": "code",
   "execution_count": 15,
   "metadata": {},
   "outputs": [
    {
     "name": "stdout",
     "output_type": "stream",
     "text": [
      "350210\n",
      "188678\n",
      "26868\n"
     ]
    }
   ],
   "source": [
    "#Right now, this divides it into sentences. We want to remove stopwords first \n",
    "from nltk.tokenize import RegexpTokenizer\n",
    "\n",
    "#We want to remove all punctuation from each word. Or else .,? would be the most frequent occurrences\n",
    "tokenizer = RegexpTokenizer(r'\\w+')\n",
    "\n",
    "\n",
    "tokenized_text = tokenizer.tokenize(nltkprep_com)\n",
    "\n",
    "stopwords = nltk.corpus.stopwords.words('english')\n",
    "stopwords.extend(['I', 'https', 'like', 'this', 'you', 'com', 'www', 'The', 'You'])\n",
    "\n",
    "\n",
    "print(len(tokenized_text))\n",
    "filtered_tokenized_text = [word for word in tokenized_text if word not in stopwords]\n",
    "print(len(filtered_tokenized_text))\n",
    "\n",
    "filtered_word_freq = nltk.FreqDist(filtered_tokenized_text)\n",
    "#filtered_word_freq = nltk.FreqDist(tokenized_text)\n",
    "filtered_word_freq\n",
    "\n",
    "words = filtered_word_freq.keys()\n",
    "\n",
    "#print(words)\n",
    "\n",
    "print(len(words))\n",
    "\n"
   ]
  },
  {
   "cell_type": "code",
   "execution_count": 16,
   "metadata": {},
   "outputs": [
    {
     "data": {
      "image/png": "[encoded data removed]",
      "text/plain": [
       "<Figure size 432x288 with 1 Axes>"
      ]
     },
     "metadata": {
      "needs_background": "light"
     },
     "output_type": "display_data"
    },
    {
     "data": {
      "text/plain": [
       "<matplotlib.axes._subplots.AxesSubplot at 0x7f896fba9710>"
      ]
     },
     "execution_count": 16,
     "metadata": {},
     "output_type": "execute_result"
    }
   ],
   "source": [
    "ax = filtered_word_freq.plot(20, title = 'Most Common Words in Subreddit Comments')\n",
    "\n",
    "ax"
   ]
  },
  {
   "cell_type": "code",
   "execution_count": 18,
   "metadata": {},
   "outputs": [
    {
     "name": "stdout",
     "output_type": "stream",
     "text": [
      "27025\n",
      "1844\n",
      "801\n",
      "2.302122347066167\n",
      "dict_keys(['woman', 'Woman', 'Cavewoman', 'cavewoman', 'congresswoman', 'Chairwoman', 'spokeswoman'])\n",
      "67\n"
     ]
    }
   ],
   "source": [
    "#But what if we removed the stopwords to measure masculine/feminine pronouns? Let's look at the example below.\n",
    "\n",
    "tokenizer = RegexpTokenizer(r'\\w+')\n",
    "tokenized_text = tokenizer.tokenize(nltkprep_com)\n",
    "\n",
    "#print(len(tokenized_text))\n",
    "\n",
    "filtered_tokenized_text = [word for word in tokenized_text]\n",
    "#print(filtered_tokenized_text)\n",
    "filtered_word_freq = nltk.FreqDist(filtered_tokenized_text)\n",
    "filtered_word_freq\n",
    "\n",
    "words = filtered_word_freq.keys()\n",
    "\n",
    "\n",
    "print(len(words))\n",
    "\n",
    "dict = {\n",
    "    'he':filtered_word_freq['he'] / len(tokenized_text),\n",
    "    'him':filtered_word_freq['him']/ len(tokenized_text),\n",
    "    'his':filtered_word_freq['his']/ len(tokenized_text),\n",
    "    'she':filtered_word_freq['she']/ len(tokenized_text),\n",
    "    'her':filtered_word_freq['her']/ len(tokenized_text),\n",
    "    'hers':filtered_word_freq['hers']/ len(tokenized_text) \n",
    "    }\n",
    "\n",
    "all_man_words = {}\n",
    "gendered_word_list = {}\n",
    "    \n",
    "for key in filtered_word_freq.keys():\n",
    "    if key[-3:] == 'man':\n",
    "        all_man_words[key] = filtered_word_freq[key]\n",
    "    elif key[:3] == 'man':\n",
    "        all_man_words[key] = filtered_word_freq[key]\n",
    "\n",
    "Interested = ['man-made', 'manpower', 'mankind',  'Caveman', 'hitman','Chairman', 'mans', 'salesman', 'middleman', 'businessman', 'man']\n",
    "Interested_f = ['woman', 'girl']\n",
    "Pop_reddit = ['man', 'frontman', 'freshman', 'cameraman', 'Anchorman', 'salesman', 'fisherman', 'manmade', 'mailman', 'Gentleman', 'caveman', 'plowman', 'congressman', 'manyboy', 'craftsman', 'foreman', 'Salesman', 'mankind']\n",
    "Pop_reddit_f = ['woman', 'Woman', 'girl', 'Cavewoman', 'cavewoman', 'congresswoman', 'Chairwoman', 'spokeswoman']\n",
    "imp_phrases = []\n",
    "\n",
    "count = 0\n",
    "for index in Pop_reddit_f: \n",
    "    if index in all_man_words:\n",
    "        gendered_word_list[index] = all_man_words[index]\n",
    "        count += all_man_words[index]\n",
    "\n",
    "        \n",
    "#This is a list of all words that are gendered. \n",
    "he_ratio = (filtered_word_freq['he'] + filtered_word_freq['him'] + filtered_word_freq['his']) \n",
    "she_ratio = (filtered_word_freq['she'] + filtered_word_freq['her'] + filtered_word_freq['hers']) \n",
    "he_she_ratio = he_ratio / she_ratio\n",
    "\n",
    "print(he_ratio)\n",
    "print(she_ratio)\n",
    "print(he_she_ratio)\n",
    "\n",
    "print(gendered_word_list.keys())\n",
    "\n",
    "print(count)"
   ]
  },
  {
   "cell_type": "code",
   "execution_count": 26,
   "metadata": {},
   "outputs": [
    {
     "name": "stderr",
     "output_type": "stream",
     "text": [
      "[nltk_data] Downloading package punkt to /home/jovyan/nltk_data...\n",
      "[nltk_data]   Unzipping tokenizers/punkt.zip.\n"
     ]
    },
    {
     "data": {
      "text/plain": [
       "\"To find all instances of gender bias, we propose the following. \\nAccess the frequency of gender pronounds - 'he', 'she', 'him', 'her', 'his', 'hers'. Have the percentages saved relative to the entire word count. \\nAccess words that either end or begin with -'man'\\nPerform sentence searches for the following words: \\n'dude, bro, bitch, girl, ladies and gentlemen, woman, man, boy'\\n\""
      ]
     },
     "execution_count": 26,
     "metadata": {},
     "output_type": "execute_result"
    }
   ],
   "source": [
    "from nltk.tokenize import *\n",
    "\n",
    "nltk.download('punkt')\n",
    "\n",
    "#analyze bigrams and trigrams\n",
    "sent_tokenizer = RegexpTokenizer(r'.+')\n",
    "sent_text = sent_tokenize(nltkprep_com)\n",
    "filtered_sent_text = [sentence for sentence in sent_text]\n",
    "\n",
    "tokenizer = RegexpTokenizer(r'\\w+')\n",
    "tokenized_text = tokenizer.tokenize(nltkprep_com)\n",
    "\n",
    "\n",
    "filtered_tokenized_text = [word for word in tokenized_text]\n",
    "#print(filtered_tokenized_text)\n",
    "filtered_word_freq = nltk.FreqDist(filtered_tokenized_text)\n",
    "filtered_word_freq\n",
    "\n",
    "words = filtered_word_freq.keys()\n",
    "\n",
    "\n",
    "bi_man = list(nltk.bigrams(filtered_sent_text))\n",
    "tri_man = list(nltk.trigrams(filtered_sent_text))\n",
    "#creates the bigrams surrounding the desired words\n",
    "\n",
    "#for i in filtered_sent_text:\n",
    "    #if ' her ' in i :\n",
    "        #print(i)\n",
    "        \n",
    "        \n",
    "\"\"\"To find all instances of gender bias, we propose the following. \n",
    "Access the frequency of gender pronounds - 'he', 'she', 'him', 'her', 'his', 'hers'. Have the percentages saved relative to the entire word count. \n",
    "Access words that either end or begin with -'man'\n",
    "Perform sentence searches for the following words: \n",
    "'dude, bro, bitch, girl, ladies and gentlemen, woman, man, boy'\n",
    "\"\"\""
   ]
  },
  {
   "cell_type": "code",
   "execution_count": 80,
   "metadata": {},
   "outputs": [
    {
     "name": "stdout",
     "output_type": "stream",
     "text": [
      "0.07697800628391888\n"
     ]
    },
    {
     "data": {
      "text/plain": [
       "Text(0, 0.5, 'Usage Per Comment')"
      ]
     },
     "execution_count": 80,
     "metadata": {},
     "output_type": "execute_result"
    },
    {
     "data": {
      "image/png": "[encoded data removed]",
      "text/plain": [
       "<Figure size 432x288 with 1 Axes>"
      ]
     },
     "metadata": {
      "needs_background": "light"
     },
     "output_type": "display_data"
    }
   ],
   "source": [
    "#import pyplot as plt\n",
    "import pandas as pd\n",
    "import matplotlib.pyplot as plt\n",
    "\n",
    "\n",
    "male_pop = 1844\n",
    "male_crypt = 539\n",
    "female_pop = 801\n",
    "female_crypt = 55\n",
    "\n",
    "\n",
    "pop_coms = 12690\n",
    "crypt_coms = 7002\n",
    "\n",
    "\n",
    "print(male_crypt / crypt_coms)\n",
    "data = {'Label': ['Male Pronoun', 'Male Pronoun', 'Female Pronoun', 'Female Pronoun'], 'Reddit':['Popular', 'Crypto', 'Popular', 'Crypto'], 'Usage Per Post': [male_pop / pop_coms, male_crypt / crypt_coms, female_pop/pop_coms, female_crypt / crypt_coms]}\n",
    "\n",
    "df = pd.DataFrame([[male_pop / pop_coms, female_pop/pop_coms ], [male_crypt / crypt_coms, female_crypt / crypt_coms]], columns=['Male Pronoun', 'Female Pronoun'])\n",
    "df['Subreddit'] = ['Popular', 'Crpyto']\n",
    "\n",
    "df = df.set_index('Subreddit')\n",
    "\n",
    "ax = df.plot(kind = 'bar')\n",
    "\n",
    "ax.set_ylabel('Usage Per Comment')"
   ]
  },
  {
   "cell_type": "code",
   "execution_count": null,
   "metadata": {},
   "outputs": [],
   "source": []
  }
 ],
 "metadata": {
  "kernelspec": {
   "display_name": "Python 3",
   "language": "python",
   "name": "python3"
  },
  "language_info": {
   "codemirror_mode": {
    "name": "ipython",
    "version": 3
   },
   "file_extension": ".py",
   "mimetype": "text/x-python",
   "name": "python",
   "nbconvert_exporter": "python",
   "pygments_lexer": "ipython3",
   "version": "3.7.5"
  }
 },
 "nbformat": 4,
 "nbformat_minor": 2
}
